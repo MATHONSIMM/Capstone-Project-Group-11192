{
  "nbformat": 4,
  "nbformat_minor": 0,
  "metadata": {
    "colab": {
      "provenance": [],
      "include_colab_link": true
    },
    "kernelspec": {
      "name": "python3",
      "display_name": "Python 3"
    },
    "language_info": {
      "name": "python"
    }
  },
  "cells": [
    {
      "cell_type": "markdown",
      "metadata": {
        "id": "view-in-github",
        "colab_type": "text"
      },
      "source": [
        "<a href=\"https://colab.research.google.com/github/MATHONSIMM/Capstone-Project-Group-11192/blob/main/Capstone_Project_Group_11192.ipynb\" target=\"_parent\"><img src=\"https://colab.research.google.com/assets/colab-badge.svg\" alt=\"Open In Colab\"/></a>"
      ]
    },
    {
      "cell_type": "markdown",
      "source": [
        "# **Libraries**"
      ],
      "metadata": {
        "id": "-gtjMvlwsun5"
      }
    },
    {
      "cell_type": "code",
      "source": [
        "#pip install wbdata"
      ],
      "metadata": {
        "id": "wDJ3rHDxGUux"
      },
      "execution_count": 5,
      "outputs": []
    },
    {
      "cell_type": "code",
      "source": [
        "#pip install fredapi"
      ],
      "metadata": {
        "colab": {
          "base_uri": "https://localhost:8080/"
        },
        "id": "btoI4rrbGY1y",
        "outputId": "4827450f-0994-436a-a065-90c57512e49a"
      },
      "execution_count": 2,
      "outputs": [
        {
          "output_type": "stream",
          "name": "stdout",
          "text": [
            "Requirement already satisfied: fredapi in /usr/local/lib/python3.12/dist-packages (0.5.2)\n",
            "Requirement already satisfied: pandas in /usr/local/lib/python3.12/dist-packages (from fredapi) (2.2.2)\n",
            "Requirement already satisfied: numpy>=1.26.0 in /usr/local/lib/python3.12/dist-packages (from pandas->fredapi) (2.0.2)\n",
            "Requirement already satisfied: python-dateutil>=2.8.2 in /usr/local/lib/python3.12/dist-packages (from pandas->fredapi) (2.9.0.post0)\n",
            "Requirement already satisfied: pytz>=2020.1 in /usr/local/lib/python3.12/dist-packages (from pandas->fredapi) (2025.2)\n",
            "Requirement already satisfied: tzdata>=2022.7 in /usr/local/lib/python3.12/dist-packages (from pandas->fredapi) (2025.2)\n",
            "Requirement already satisfied: six>=1.5 in /usr/local/lib/python3.12/dist-packages (from python-dateutil>=2.8.2->pandas->fredapi) (1.17.0)\n"
          ]
        }
      ]
    },
    {
      "cell_type": "code",
      "source": [
        "import yfinance as yf\n",
        "import pandas as pd\n",
        "import numpy as np\n",
        "from sklearn.preprocessing import StandardScaler\n",
        "from sklearn.decomposition import PCA\n",
        "from sklearn.model_selection import train_test_split\n",
        "from sklearn.neural_network import MLPClassifier\n",
        "import matplotlib.pyplot as plt\n",
        "import tensorflow as tf\n",
        "import wbdata\n",
        "from datetime import datetime\n",
        "from fredapi import Fred\n",
        "import gdown"
      ],
      "metadata": {
        "id": "wJxwoTdZuFev"
      },
      "execution_count": 3,
      "outputs": []
    },
    {
      "cell_type": "markdown",
      "source": [
        "# **Data**"
      ],
      "metadata": {
        "id": "pYW1FYNMtcWk"
      }
    },
    {
      "cell_type": "markdown",
      "source": [
        "## **Sector ETFs**\n",
        "\n",
        "yfinance: https://finance.yahoo.com/"
      ],
      "metadata": {
        "id": "Elo9LjTotqLq"
      }
    },
    {
      "cell_type": "markdown",
      "source": [
        "### Tickers Definition"
      ],
      "metadata": {
        "id": "YLTySkrruJPF"
      }
    },
    {
      "cell_type": "code",
      "source": [
        "ETFtickers = [\n",
        "    \"STX40.JO\",   # Satrix 40\n",
        "    \"STXRES.JO\",  # Satrix RESOURCES\n",
        "    \"STXIND.JO\",  # Satrix INDUSTRIES\n",
        "    \"STXFIN.JO\",  # Satrix FINANCE\n",
        "    \"STXDIV.JO\",\n",
        "\n",
        "]\n",
        "\n",
        "\n",
        "#\"STXPRO.JO\", # property  -Started 2024 we wouls have proxied with PTXTEN (this one was disconntinued as well.)\n",
        "#    \"PREFTX.JO\" # has been illiquid\n",
        "#    \"STXGOV.JO\", #bonds -started 2020 proxy usin \" NFGOVI.JO\" and \"NFTRCI.JO\" (also discontinued)"
      ],
      "metadata": {
        "id": "LvfCzpbVtpdJ"
      },
      "execution_count": 4,
      "outputs": []
    },
    {
      "cell_type": "markdown",
      "source": [
        "### Get and Clean data"
      ],
      "metadata": {
        "id": "l8mz_pRmuTDs"
      }
    },
    {
      "cell_type": "code",
      "source": [
        "# Download historical data (2008–2025)\n",
        "ETFdata = yf.download(ETFtickers, start=\"2008-01-01\", end=\"2025-09-30\", auto_adjust=False)\n",
        "\n",
        "# Extract Adjusted Close prices\n",
        "adj_close_ETFdata = ETFdata[\"Adj Close\"]\n",
        "\n",
        "# Drop columns with all NaNs (delisted / unavailable ETFs)\n",
        "adj_close_ETFdata = adj_close_ETFdata.dropna(axis=1, how=\"all\")\n",
        "\n",
        "# Forward-fill missing values (trading holidays)\n",
        "adj_close_ETFdata = adj_close_ETFdata.ffill()\n",
        "\n",
        "print(\"Available ETFs:\", adj_close_ETFdata.columns.tolist())\n",
        "print(adj_close_ETFdata.head())"
      ],
      "metadata": {
        "colab": {
          "base_uri": "https://localhost:8080/"
        },
        "id": "AibxfrYSumwA",
        "outputId": "cae8cf24-b148-43e7-ca13-8a1b82ce9329"
      },
      "execution_count": 5,
      "outputs": [
        {
          "output_type": "stream",
          "name": "stderr",
          "text": [
            "[*********************100%***********************]  5 of 5 completed"
          ]
        },
        {
          "output_type": "stream",
          "name": "stdout",
          "text": [
            "Available ETFs: ['STX40.JO', 'STXDIV.JO', 'STXFIN.JO', 'STXIND.JO', 'STXRES.JO']\n",
            "Ticker         STX40.JO   STXDIV.JO   STXFIN.JO    STXIND.JO    STXRES.JO\n",
            "Date                                                                     \n",
            "2009-01-02  1954.315918  110.273376  593.242065  1661.408936  3969.778564\n",
            "2009-01-05  2006.501587  113.562637  604.197754  1728.917603  4068.006348\n",
            "2009-01-06  2068.249512  116.318436  618.049500  1775.426880  4237.672363\n",
            "2009-01-07  2048.313232  116.269112  612.437256  1730.261597  4188.062012\n",
            "2009-01-08  2001.735962  113.256439  601.252441  1694.699585  4069.989014\n"
          ]
        },
        {
          "output_type": "stream",
          "name": "stderr",
          "text": [
            "\n"
          ]
        }
      ]
    },
    {
      "cell_type": "markdown",
      "source": [
        "### EDA Plot"
      ],
      "metadata": {
        "id": "PGFol2DIuT54"
      }
    },
    {
      "cell_type": "code",
      "source": [
        "plt.figure(figsize=(12, 6))\n",
        "for col in adj_close_ETFdata.columns:\n",
        "    plt.plot(adj_close_ETFdata.index, adj_close_ETFdata[col], label=col)\n",
        "\n",
        "plt.title(\"Satrix ETFs Adjusted Close Prices (2008–2025)\", fontsize=14)\n",
        "plt.xlabel(\"Date\")\n",
        "plt.ylabel(\"Price (ZAR)\")\n",
        "plt.legend()\n",
        "plt.grid(True)\n",
        "plt.show()\n"
      ],
      "metadata": {
        "colab": {
          "base_uri": "https://localhost:8080/",
          "height": 565
        },
        "id": "Auwj5Wba0rUD",
        "outputId": "3ec7cbe4-dee8-44a7-d31b-86790d6d14b5"
      },
      "execution_count": 6,
      "outputs": [
        {
          "output_type": "display_data",
          "data": {
            "text/plain": [
              "<Figure size 1200x600 with 1 Axes>"
            ],
            "image/png": "[encoded data removed]"
          },
          "metadata": {}
        }
      ]
    },
    {
      "cell_type": "markdown",
      "source": [
        "## **Sector Macroeconomic**\n",
        "\n"
      ],
      "metadata": {
        "id": "LcnFE6E7uUVp"
      }
    },
    {
      "cell_type": "markdown",
      "source": [
        "### FRED (Federal Reserve Economic Data): https://fred.stlouisfed.org/"
      ],
      "metadata": {
        "id": "M8-Ew_Pc1tHf"
      }
    },
    {
      "cell_type": "code",
      "source": [
        "fred = Fred(api_key='db781b238641fc185968ecffff81be38')\n",
        "\n",
        "# Define date range\n",
        "start_date = '2008-01-01'\n",
        "end_date = '2025-09-30'\n",
        "\n",
        "# Monthly CPI (Consumer Price Index)\n",
        "cpi = fred.get_series('ZAFCPIALLMINMEI', start_date, end_date)\n",
        "\n",
        "# Quarterly GDP\n",
        "GDP = fred.get_series('NGDPRSAXDCZAQ', start_date, end_date)\n",
        "\n",
        "# Quarterly Unemployment Rate\n",
        "#unemp = fred.get_series('ZAFURTOTQDSMEI') #data outdated\n",
        "\n",
        "# Monthly 10-year SAGB yield\n",
        "ZAGB = fred.get_series('IRLTLT01ZAM156N', start_date, end_date)\n",
        "\n",
        "# Combine (with aligned index)\n",
        "Freddata = pd.concat([cpi, GDP, ZAGB], axis=1)\n",
        "Freddata.columns = ['CPI', 'GDP', \"ZAGB10y\"]\n",
        "Freddata = Freddata.dropna()\n",
        "print(Freddata.tail())\n"
      ],
      "metadata": {
        "colab": {
          "base_uri": "https://localhost:8080/"
        },
        "id": "TacJY9f96onB",
        "outputId": "9982b81e-83ce-4f70-a8a1-dfcc6b2004af"
      },
      "execution_count": 8,
      "outputs": [
        {
          "output_type": "stream",
          "name": "stdout",
          "text": [
            "                 CPI        GDP    ZAGB10y\n",
            "2024-01-01  152.9674  1164447.9  11.420455\n",
            "2024-04-01  155.7972  1167433.1  12.274762\n",
            "2024-07-01  156.8977  1164042.3  11.021739\n",
            "2024-10-01  157.2121  1168684.4  10.464348\n",
            "2025-01-01  157.6837  1169838.5  10.419545\n"
          ]
        }
      ]
    },
    {
      "cell_type": "code",
      "source": [
        "# Set figure size and style\n",
        "plt.figure(figsize=(12, 6))\n",
        "plt.style.use('ggplot')\n",
        "\n",
        "# Plot each macroeconomic indicator\n",
        "for column in Freddata.columns:\n",
        "    plt.plot(Freddata.index, Freddata[column], label=column)\n",
        "\n",
        "# Add titles and labels\n",
        "plt.title('Macroeconomic Indicators for South Africa (2008–2025)', fontsize=16)\n",
        "plt.xlabel('Date', fontsize=12)\n",
        "plt.ylabel('Value', fontsize=12)\n",
        "plt.legend(loc='upper left')\n",
        "plt.tight_layout()\n",
        "plt.show()\n"
      ],
      "metadata": {
        "colab": {
          "base_uri": "https://localhost:8080/",
          "height": 607
        },
        "id": "rmhvROjD6x72",
        "outputId": "6b9a411e-cebf-49e8-8e0f-def8ff8212b3"
      },
      "execution_count": 11,
      "outputs": [
        {
          "output_type": "display_data",
          "data": {
            "text/plain": [
              "<Figure size 1200x600 with 1 Axes>"
            ],
            "image/png": "[encoded data removed]"
          },
          "metadata": {}
        }
      ]
    },
    {
      "cell_type": "markdown",
      "source": [
        "### yfinance: https://finance.yahoo.com/"
      ],
      "metadata": {
        "id": "PflB4fqQ1lVe"
      }
    },
    {
      "cell_type": "code",
      "source": [
        "# Gold price\n",
        "gold = yf.download('GC=F', start='2008-01-01', end='2025-09-30')\n",
        "\n",
        "# USD/ZAR exchange rate\n",
        "usd_zar = yf.download('ZAR=X', start='2008-01-01', end='2025-09-30')\n",
        "\n",
        "\n",
        "print(usd_zar.tail())\n"
      ],
      "metadata": {
        "colab": {
          "base_uri": "https://localhost:8080/"
        },
        "id": "mwBZaiYbtbPy",
        "outputId": "7043567f-1b38-4bc3-ec60-a6b954b38eaf"
      },
      "execution_count": 12,
      "outputs": [
        {
          "output_type": "stream",
          "name": "stderr",
          "text": [
            "/tmp/ipython-input-3323087067.py:2: FutureWarning: YF.download() has changed argument auto_adjust default to True\n",
            "  gold = yf.download('GC=F', start='2008-01-01', end='2025-09-30')\n",
            "[*********************100%***********************]  1 of 1 completed\n",
            "/tmp/ipython-input-3323087067.py:5: FutureWarning: YF.download() has changed argument auto_adjust default to True\n",
            "  usd_zar = yf.download('ZAR=X', start='2008-01-01', end='2025-09-30')\n",
            "[*********************100%***********************]  1 of 1 completed"
          ]
        },
        {
          "output_type": "stream",
          "name": "stdout",
          "text": [
            "Price           Close       High        Low       Open Volume\n",
            "Ticker          ZAR=X      ZAR=X      ZAR=X      ZAR=X  ZAR=X\n",
            "Date                                                         \n",
            "2025-09-23  17.330900  17.381300  17.228701  17.330900      0\n",
            "2025-09-24  17.228100  17.344999  17.207001  17.228100      0\n",
            "2025-09-25  17.327280  17.440630  17.280100  17.327280      0\n",
            "2025-09-26  17.422001  17.482500  17.336100  17.422001      0\n",
            "2025-09-29  17.340401  17.349091  17.238501  17.340401      0\n"
          ]
        },
        {
          "output_type": "stream",
          "name": "stderr",
          "text": [
            "\n"
          ]
        }
      ]
    },
    {
      "cell_type": "code",
      "source": [
        "Macrotickers = [\n",
        "    \"GC=F\",   # Gold price\n",
        "    \"ZAR=X\",  # USD/ZAR Exchange rate\n",
        "]"
      ],
      "metadata": {
        "id": "rVAW1X3Najnw"
      },
      "execution_count": 13,
      "outputs": []
    },
    {
      "cell_type": "code",
      "source": [
        "# Download historical data (2008–2025)\n",
        "MacroYfindata = yf.download(Macrotickers, start=\"2008-01-01\", end=\"2025-09-30\", auto_adjust=False)\n",
        "\n",
        "# Extract Adjusted Close prices\n",
        "MacroYfinadj_close_data = MacroYfindata[\"Adj Close\"]\n",
        "\n",
        "# Drop columns with all NaNs (delisted / unavailable ETFs)\n",
        "MacroYfinadj_close_data = MacroYfinadj_close_data.dropna(axis=1, how=\"all\")\n",
        "\n",
        "# Forward-fill missing values (trading holidays)\n",
        "MacroYfinadj_close_data = MacroYfinadj_close_data.ffill()\n",
        "\n",
        "print(\"Available ETFs:\", MacroYfinadj_close_data.columns.tolist())\n",
        "print(MacroYfinadj_close_data.head())"
      ],
      "metadata": {
        "colab": {
          "base_uri": "https://localhost:8080/"
        },
        "id": "0IufcvVTZKeq",
        "outputId": "aad49ac0-91be-4cc4-f853-50f8ca11b5bf"
      },
      "execution_count": 14,
      "outputs": [
        {
          "output_type": "stream",
          "name": "stderr",
          "text": [
            "[*********************100%***********************]  2 of 2 completed"
          ]
        },
        {
          "output_type": "stream",
          "name": "stdout",
          "text": [
            "Available ETFs: ['GC=F', 'ZAR=X']\n",
            "Ticker            GC=F   ZAR=X\n",
            "Date                          \n",
            "2008-01-01         NaN  6.8464\n",
            "2008-01-02  857.000000  6.8220\n",
            "2008-01-03  866.400024  6.8400\n",
            "2008-01-04  863.099976  6.8250\n",
            "2008-01-07  859.599976  6.9132\n"
          ]
        },
        {
          "output_type": "stream",
          "name": "stderr",
          "text": [
            "\n"
          ]
        }
      ]
    },
    {
      "cell_type": "markdown",
      "source": [
        "### South African Reserve Bank (SARB) : https://www.resbank.co.za/en/home/what-we-do/statistics/key-statistics/"
      ],
      "metadata": {
        "id": "XKRd-RCHVRqb"
      }
    },
    {
      "cell_type": "code",
      "source": [
        "file_id = \"1q6zBoxXQ377W6HpnCO6gG5NkcjDPO6wR\"\n",
        "url = f\"https://drive.google.com/uc?id={file_id}\"\n",
        "\n",
        "# Download and read the CSV\n",
        "gdown.download(url, \"data.csv\", quiet=True)\n",
        "df = pd.read_csv(\"data.csv\", skiprows=3)\n",
        "\n",
        "# Preview the data\n",
        "print(df.head())"
      ],
      "metadata": {
        "colab": {
          "base_uri": "https://localhost:8080/"
        },
        "id": "fdow8laWVfhA",
        "outputId": "a56329a6-563c-49fa-98b5-c45e308e6682"
      },
      "execution_count": 15,
      "outputs": [
        {
          "output_type": "stream",
          "name": "stdout",
          "text": [
            "          Date  Value\n",
            "0   2025-09-30    7.0\n",
            "1   2025-09-29    7.0\n",
            "2   2025-09-26    7.0\n",
            "3   2025-09-25    7.0\n",
            "4   2025-09-23    7.0\n"
          ]
        }
      ]
    },
    {
      "cell_type": "markdown",
      "source": [
        "# **Data Processing**"
      ],
      "metadata": {
        "id": "n-ZkBZR7zbbX"
      }
    },
    {
      "cell_type": "markdown",
      "source": [
        "## **Load Full data**"
      ],
      "metadata": {
        "id": "0b2ItcKYzpA5"
      }
    },
    {
      "cell_type": "code",
      "source": [
        "# Load all data (already downloaded from Yahoo and FRED)\n",
        "etf_data = adj_close_ETFdata.copy()            # JSE Sector ETFs\n",
        "macro_data = Freddata.copy()                   # CPI, GDP, 10Y yield\n",
        "market_data = MacroYfinadj_close_data.copy()   # Gold, USD/ZAR\n",
        "\n",
        "# Initial inspection\n",
        "print(\"ETF shape:\", etf_data.shape)\n",
        "print(\"Macro shape:\", macro_data.shape)\n",
        "print(\"Market shape:\", market_data.shape)\n"
      ],
      "metadata": {
        "colab": {
          "base_uri": "https://localhost:8080/"
        },
        "id": "1LLKqrfjzhJu",
        "outputId": "6779e504-1a7f-4cf9-edfd-d3eb0df8b6aa"
      },
      "execution_count": 16,
      "outputs": [
        {
          "output_type": "stream",
          "name": "stdout",
          "text": [
            "ETF shape: (4198, 5)\n",
            "Macro shape: (69, 3)\n",
            "Market shape: (4628, 2)\n"
          ]
        }
      ]
    },
    {
      "cell_type": "code",
      "source": [
        "macro_data.tail()"
      ],
      "metadata": {
        "colab": {
          "base_uri": "https://localhost:8080/",
          "height": 206
        },
        "id": "3b33xag00sAE",
        "outputId": "b65c5e39-8f13-4613-cb31-2b0a43c98e23"
      },
      "execution_count": 17,
      "outputs": [
        {
          "output_type": "execute_result",
          "data": {
            "text/plain": [
              "                 CPI        GDP    ZAGB10y\n",
              "2024-01-01  152.9674  1164447.9  11.420455\n",
              "2024-04-01  155.7972  1167433.1  12.274762\n",
              "2024-07-01  156.8977  1164042.3  11.021739\n",
              "2024-10-01  157.2121  1168684.4  10.464348\n",
              "2025-01-01  157.6837  1169838.5  10.419545"
            ],
            "text/html": [
              "\n",
              "  <div id=\"df-d58fd0c5-34a5-4c27-887d-7dddf1750f88\" class=\"colab-df-container\">\n",
              "    <div>\n",
              "<style scoped>\n",
              "    .dataframe tbody tr th:only-of-type {\n",
              "        vertical-align: middle;\n",
              "    }\n",
              "\n",
              "    .dataframe tbody tr th {\n",
              "        vertical-align: top;\n",
              "    }\n",
              "\n",
              "    .dataframe thead th {\n",
              "        text-align: right;\n",
              "    }\n",
              "</style>\n",
              "<table border=\"1\" class=\"dataframe\">\n",
              "  <thead>\n",
              "    <tr style=\"text-align: right;\">\n",
              "      <th></th>\n",
              "      <th>CPI</th>\n",
              "      <th>GDP</th>\n",
              "      <th>ZAGB10y</th>\n",
              "    </tr>\n",
              "  </thead>\n",
              "  <tbody>\n",
              "    <tr>\n",
              "      <th>2024-01-01</th>\n",
              "      <td>152.9674</td>\n",
              "      <td>1164447.9</td>\n",
              "      <td>11.420455</td>\n",
              "    </tr>\n",
              "    <tr>\n",
              "      <th>2024-04-01</th>\n",
              "      <td>155.7972</td>\n",
              "      <td>1167433.1</td>\n",
              "      <td>12.274762</td>\n",
              "    </tr>\n",
              "    <tr>\n",
              "      <th>2024-07-01</th>\n",
              "      <td>156.8977</td>\n",
              "      <td>1164042.3</td>\n",
              "      <td>11.021739</td>\n",
              "    </tr>\n",
              "    <tr>\n",
              "      <th>2024-10-01</th>\n",
              "      <td>157.2121</td>\n",
              "      <td>1168684.4</td>\n",
              "      <td>10.464348</td>\n",
              "    </tr>\n",
              "    <tr>\n",
              "      <th>2025-01-01</th>\n",
              "      <td>157.6837</td>\n",
              "      <td>1169838.5</td>\n",
              "      <td>10.419545</td>\n",
              "    </tr>\n",
              "  </tbody>\n",
              "</table>\n",
              "</div>\n",
              "    <div class=\"colab-df-buttons\">\n",
              "      \n",
              "  <div class=\"colab-df-container\">\n",
              "    <button class=\"colab-df-convert\" onclick=\"convertToInteractive('df-d58fd0c5-34a5-4c27-887d-7dddf1750f88')\"\n",
              "            title=\"Convert this dataframe to an interactive table.\"\n",
              "            style=\"display:none;\">\n",
              "      \n",
              "  <svg xmlns=\"http://www.w3.org/2000/svg\" height=\"24px\" viewBox=\"0 -960 960 960\">\n",
              "    <path d=\"M120-120v-720h720v720H120Zm60-500h600v-160H180v160Zm220 220h160v-160H400v160Zm0 220h160v-160H400v160ZM180-400h160v-160H180v160Zm440 0h160v-160H620v160ZM180-180h160v-160H180v160Zm440 0h160v-160H620v160Z\"/>\n",
              "  </svg>\n",
              "    </button>\n",
              "    \n",
              "  <style>\n",
              "    .colab-df-container {\n",
              "      display:flex;\n",
              "      gap: 12px;\n",
              "    }\n",
              "\n",
              "    .colab-df-convert {\n",
              "      background-color: #E8F0FE;\n",
              "      border: none;\n",
              "      border-radius: 50%;\n",
              "      cursor: pointer;\n",
              "      display: none;\n",
              "      fill: #1967D2;\n",
              "      height: 32px;\n",
              "      padding: 0 0 0 0;\n",
              "      width: 32px;\n",
              "    }\n",
              "\n",
              "    .colab-df-convert:hover {\n",
              "      background-color: #E2EBFA;\n",
              "      box-shadow: 0px 1px 2px rgba(60, 64, 67, 0.3), 0px 1px 3px 1px rgba(60, 64, 67, 0.15);\n",
              "      fill: #174EA6;\n",
              "    }\n",
              "\n",
              "    .colab-df-buttons div {\n",
              "      margin-bottom: 4px;\n",
              "    }\n",
              "\n",
              "    [theme=dark] .colab-df-convert {\n",
              "      background-color: #3B4455;\n",
              "      fill: #D2E3FC;\n",
              "    }\n",
              "\n",
              "    [theme=dark] .colab-df-convert:hover {\n",
              "      background-color: #434B5C;\n",
              "      box-shadow: 0px 1px 3px 1px rgba(0, 0, 0, 0.15);\n",
              "      filter: drop-shadow(0px 1px 2px rgba(0, 0, 0, 0.3));\n",
              "      fill: #FFFFFF;\n",
              "    }\n",
              "  </style>\n",
              "\n",
              "    <script>\n",
              "      const buttonEl =\n",
              "        document.querySelector('#df-d58fd0c5-34a5-4c27-887d-7dddf1750f88 button.colab-df-convert');\n",
              "      buttonEl.style.display =\n",
              "        google.colab.kernel.accessAllowed ? 'block' : 'none';\n",
              "\n",
              "      async function convertToInteractive(key) {\n",
              "        const element = document.querySelector('#df-d58fd0c5-34a5-4c27-887d-7dddf1750f88');\n",
              "        const dataTable =\n",
              "          await google.colab.kernel.invokeFunction('convertToInteractive',\n",
              "                                                    [key], {});\n",
              "        if (!dataTable) return;\n",
              "\n",
              "        const docLinkHtml = 'Like what you see? Visit the ' +\n",
              "          '<a target=\"_blank\" href=https://colab.research.google.com/notebooks/data_table.ipynb>data table notebook</a>'\n",
              "          + ' to learn more about interactive tables.';\n",
              "        element.innerHTML = '';\n",
              "        dataTable['output_type'] = 'display_data';\n",
              "        await google.colab.output.renderOutput(dataTable, element);\n",
              "        const docLink = document.createElement('div');\n",
              "        docLink.innerHTML = docLinkHtml;\n",
              "        element.appendChild(docLink);\n",
              "      }\n",
              "    </script>\n",
              "  </div>\n",
              "  \n",
              "    </div>\n",
              "  </div>\n",
              "  "
            ]
          },
          "metadata": {},
          "execution_count": 17
        }
      ]
    },
    {
      "cell_type": "markdown",
      "source": [
        "## **Missing Values**"
      ],
      "metadata": {
        "id": "sno8mDXpzzNb"
      }
    },
    {
      "cell_type": "code",
      "source": [
        "# Handle missing values\n",
        "etf_data = etf_data.asfreq('B').ffill().bfill()  # fill forward and backward for continuity\n",
        "#macro_data = macro_data.resample('ME').interpolate(method='linear').ffill()\n",
        "market_data = market_data.asfreq('B').ffill().bfill()\n",
        "\n",
        "# Drop columns with excessive NaNs (if any ETF was delisted or thinly traded)\n",
        "threshold = 0.9 * len(etf_data)\n",
        "etf_data = etf_data.dropna(axis=1, thresh=threshold)\n"
      ],
      "metadata": {
        "id": "OLldUMcaz2FE"
      },
      "execution_count": 18,
      "outputs": []
    },
    {
      "cell_type": "code",
      "source": [
        "print(\"Missing values after cleaning:\")\n",
        "print(etf_data.isna().mean().sort_values(ascending=False).head())"
      ],
      "metadata": {
        "colab": {
          "base_uri": "https://localhost:8080/"
        },
        "id": "T1SX5WPN0LOY",
        "outputId": "f4f160ca-8770-4300-971f-cd5fa24f18c0"
      },
      "execution_count": 19,
      "outputs": [
        {
          "output_type": "stream",
          "name": "stdout",
          "text": [
            "Missing values after cleaning:\n",
            "Ticker\n",
            "STX40.JO     0.0\n",
            "STXDIV.JO    0.0\n",
            "STXFIN.JO    0.0\n",
            "STXIND.JO    0.0\n",
            "STXRES.JO    0.0\n",
            "dtype: float64\n"
          ]
        }
      ]
    },
    {
      "cell_type": "markdown",
      "source": [
        "## **Outlier Detection and Winsorization**"
      ],
      "metadata": {
        "id": "wgg7PlNv2xUW"
      }
    },
    {
      "cell_type": "code",
      "source": [
        "def winsorize_series(s, factor=3.0):\n",
        "    \"\"\"Cap extreme return outliers using the IQR rule.\"\"\"\n",
        "    q1, q3 = s.quantile([0.25, 0.75])\n",
        "    iqr = q3 - q1\n",
        "    lower, upper = q1 - factor * iqr, q3 + factor * iqr\n",
        "    return s.clip(lower, upper)\n",
        "\n",
        "# Calculate daily log returns and winsorize\n",
        "daily_returns = np.log(etf_data / etf_data.shift(1))\n",
        "daily_returns = daily_returns.apply(winsorize_series, axis=0).fillna(0)"
      ],
      "metadata": {
        "id": "wOi_gLo52_XU"
      },
      "execution_count": 20,
      "outputs": []
    },
    {
      "cell_type": "markdown",
      "source": [
        "## **Aggregate Returns to Monthly Frequency**"
      ],
      "metadata": {
        "id": "wr_rPWQX3PEG"
      }
    },
    {
      "cell_type": "code",
      "source": [
        "monthly_prices = etf_data.resample('ME').last()\n",
        "monthly_returns = np.log(monthly_prices / monthly_prices.shift(1)).dropna()"
      ],
      "metadata": {
        "id": "yxWINa8B3ipS"
      },
      "execution_count": 21,
      "outputs": []
    },
    {
      "cell_type": "markdown",
      "source": [
        "## **Upsample Quarterly Macroeconomic Data**"
      ],
      "metadata": {
        "id": "4sXF2mqd3oBA"
      }
    },
    {
      "cell_type": "code",
      "source": [
        "macro_monthly = macro_data.resample('ME').ffill()\n",
        "\n",
        "# Compute quarterly or annual growth/change metrics\n",
        "# CPI quarter-on-quarter change\n",
        "macro_monthly['CPI_qoq'] = macro_monthly['CPI'].pct_change(3) * 100\n",
        "macro_monthly['GDP_qoq'] = macro_monthly['GDP'].pct_change(3) * 100\n",
        "macro_monthly['Yield_change'] = macro_monthly['ZAGB10y'].diff()\n",
        "\n",
        "# Drop first few missing rows from growth computations\n",
        "macro_monthly = macro_monthly.dropna()"
      ],
      "metadata": {
        "id": "MoDrMtZT3sV-"
      },
      "execution_count": 22,
      "outputs": []
    },
    {
      "cell_type": "code",
      "source": [
        "#macro_monthly"
      ],
      "metadata": {
        "id": "Dk0tGinT6cwc"
      },
      "execution_count": 80,
      "outputs": []
    },
    {
      "cell_type": "markdown",
      "source": [
        "## **Process Market Proxy Variables (Gold, USD/ZAR)**"
      ],
      "metadata": {
        "id": "ytMvUmqx6DAg"
      }
    },
    {
      "cell_type": "code",
      "source": [
        "market_monthly = market_data.resample('ME').last().ffill()\n",
        "market_monthly['Gold_change'] = market_monthly['GC=F'].pct_change() * 100\n",
        "market_monthly['USDZAR_change'] = market_monthly['ZAR=X'].pct_change() * 100\n",
        "market_monthly = market_monthly[['Gold_change', 'USDZAR_change']].dropna()"
      ],
      "metadata": {
        "id": "QRlMs1Mg6G4a"
      },
      "execution_count": 23,
      "outputs": []
    },
    {
      "cell_type": "code",
      "source": [
        "#market_monthly"
      ],
      "metadata": {
        "id": "-BHjYJn86UFm"
      },
      "execution_count": 78,
      "outputs": []
    },
    {
      "cell_type": "markdown",
      "source": [
        "## **Merge All Data and Align by Date**"
      ],
      "metadata": {
        "id": "AX3ffuIL6nfk"
      }
    },
    {
      "cell_type": "code",
      "source": [
        "# Align all datasets on common monthly index\n",
        "data_all = monthly_returns.join([macro_monthly, market_monthly], how='inner')\n",
        "\n",
        "# Drop any rows with residual missing values\n",
        "data_all = data_all.dropna(axis=0, how='any')\n",
        "\n",
        "# Separate predictors (X) and targets (sector returns R)\n",
        "returns = monthly_returns.loc[data_all.index]\n",
        "features = data_all.drop(columns=returns.columns, errors='ignore')\n",
        "\n",
        "print(\"Final dataset shape:\")\n",
        "print(\"Returns (R):\", returns.shape)\n",
        "print(\"Features (X):\", features.shape)"
      ],
      "metadata": {
        "colab": {
          "base_uri": "https://localhost:8080/"
        },
        "id": "zgfHtjmS6uAX",
        "outputId": "309910d1-09e9-4649-c750-86a1773a263b"
      },
      "execution_count": 24,
      "outputs": [
        {
          "output_type": "stream",
          "name": "stdout",
          "text": [
            "Final dataset shape:\n",
            "Returns (R): (192, 5)\n",
            "Features (X): (192, 8)\n"
          ]
        }
      ]
    },
    {
      "cell_type": "code",
      "source": [
        "data_all.tail()"
      ],
      "metadata": {
        "colab": {
          "base_uri": "https://localhost:8080/",
          "height": 206
        },
        "id": "CK3Lz9Ty63Br",
        "outputId": "65c656e7-28a1-4971-d0e2-e6ced6af15eb"
      },
      "execution_count": 25,
      "outputs": [
        {
          "output_type": "execute_result",
          "data": {
            "text/plain": [
              "            STX40.JO  STXDIV.JO  STXFIN.JO  STXIND.JO  STXRES.JO       CPI  \\\n",
              "2024-09-30  0.039880   0.047850   0.031988   0.055589   0.032541  156.8977   \n",
              "2024-10-31 -0.025963  -0.021605  -0.022841  -0.043310   0.016970  157.2121   \n",
              "2024-11-30 -0.013219  -0.014760   0.004726   0.003148  -0.073687  157.2121   \n",
              "2024-12-31 -0.007596  -0.011215  -0.017599   0.026454  -0.059476  157.2121   \n",
              "2025-01-31  0.025240  -0.014998  -0.040034   0.012710   0.161131  157.6837   \n",
              "\n",
              "                  GDP    ZAGB10y   CPI_qoq   GDP_qoq  Yield_change  \\\n",
              "2024-09-30  1164042.3  11.021739  0.706367 -0.290449      0.000000   \n",
              "2024-10-31  1168684.4  10.464348  0.200385  0.398791     -0.557391   \n",
              "2024-11-30  1168684.4  10.464348  0.200385  0.398791      0.000000   \n",
              "2024-12-31  1168684.4  10.464348  0.200385  0.398791      0.000000   \n",
              "2025-01-31  1169838.5  10.419545  0.299977  0.098752     -0.044802   \n",
              "\n",
              "            Gold_change  USDZAR_change  \n",
              "2024-09-30     5.706153      -3.608558  \n",
              "2024-10-31     3.876937       3.263710  \n",
              "2024-11-30    -2.968997       2.467568  \n",
              "2024-12-31    -1.046295       3.784147  \n",
              "2025-01-31     6.971704      -1.053027  "
            ],
            "text/html": [
              "\n",
              "  <div id=\"df-e6b09326-47b6-4dfb-811b-06f77c6adeeb\" class=\"colab-df-container\">\n",
              "    <div>\n",
              "<style scoped>\n",
              "    .dataframe tbody tr th:only-of-type {\n",
              "        vertical-align: middle;\n",
              "    }\n",
              "\n",
              "    .dataframe tbody tr th {\n",
              "        vertical-align: top;\n",
              "    }\n",
              "\n",
              "    .dataframe thead th {\n",
              "        text-align: right;\n",
              "    }\n",
              "</style>\n",
              "<table border=\"1\" class=\"dataframe\">\n",
              "  <thead>\n",
              "    <tr style=\"text-align: right;\">\n",
              "      <th></th>\n",
              "      <th>STX40.JO</th>\n",
              "      <th>STXDIV.JO</th>\n",
              "      <th>STXFIN.JO</th>\n",
              "      <th>STXIND.JO</th>\n",
              "      <th>STXRES.JO</th>\n",
              "      <th>CPI</th>\n",
              "      <th>GDP</th>\n",
              "      <th>ZAGB10y</th>\n",
              "      <th>CPI_qoq</th>\n",
              "      <th>GDP_qoq</th>\n",
              "      <th>Yield_change</th>\n",
              "      <th>Gold_change</th>\n",
              "      <th>USDZAR_change</th>\n",
              "    </tr>\n",
              "  </thead>\n",
              "  <tbody>\n",
              "    <tr>\n",
              "      <th>2024-09-30</th>\n",
              "      <td>0.039880</td>\n",
              "      <td>0.047850</td>\n",
              "      <td>0.031988</td>\n",
              "      <td>0.055589</td>\n",
              "      <td>0.032541</td>\n",
              "      <td>156.8977</td>\n",
              "      <td>1164042.3</td>\n",
              "      <td>11.021739</td>\n",
              "      <td>0.706367</td>\n",
              "      <td>-0.290449</td>\n",
              "      <td>0.000000</td>\n",
              "      <td>5.706153</td>\n",
              "      <td>-3.608558</td>\n",
              "    </tr>\n",
              "    <tr>\n",
              "      <th>2024-10-31</th>\n",
              "      <td>-0.025963</td>\n",
              "      <td>-0.021605</td>\n",
              "      <td>-0.022841</td>\n",
              "      <td>-0.043310</td>\n",
              "      <td>0.016970</td>\n",
              "      <td>157.2121</td>\n",
              "      <td>1168684.4</td>\n",
              "      <td>10.464348</td>\n",
              "      <td>0.200385</td>\n",
              "      <td>0.398791</td>\n",
              "      <td>-0.557391</td>\n",
              "      <td>3.876937</td>\n",
              "      <td>3.263710</td>\n",
              "    </tr>\n",
              "    <tr>\n",
              "      <th>2024-11-30</th>\n",
              "      <td>-0.013219</td>\n",
              "      <td>-0.014760</td>\n",
              "      <td>0.004726</td>\n",
              "      <td>0.003148</td>\n",
              "      <td>-0.073687</td>\n",
              "      <td>157.2121</td>\n",
              "      <td>1168684.4</td>\n",
              "      <td>10.464348</td>\n",
              "      <td>0.200385</td>\n",
              "      <td>0.398791</td>\n",
              "      <td>0.000000</td>\n",
              "      <td>-2.968997</td>\n",
              "      <td>2.467568</td>\n",
              "    </tr>\n",
              "    <tr>\n",
              "      <th>2024-12-31</th>\n",
              "      <td>-0.007596</td>\n",
              "      <td>-0.011215</td>\n",
              "      <td>-0.017599</td>\n",
              "      <td>0.026454</td>\n",
              "      <td>-0.059476</td>\n",
              "      <td>157.2121</td>\n",
              "      <td>1168684.4</td>\n",
              "      <td>10.464348</td>\n",
              "      <td>0.200385</td>\n",
              "      <td>0.398791</td>\n",
              "      <td>0.000000</td>\n",
              "      <td>-1.046295</td>\n",
              "      <td>3.784147</td>\n",
              "    </tr>\n",
              "    <tr>\n",
              "      <th>2025-01-31</th>\n",
              "      <td>0.025240</td>\n",
              "      <td>-0.014998</td>\n",
              "      <td>-0.040034</td>\n",
              "      <td>0.012710</td>\n",
              "      <td>0.161131</td>\n",
              "      <td>157.6837</td>\n",
              "      <td>1169838.5</td>\n",
              "      <td>10.419545</td>\n",
              "      <td>0.299977</td>\n",
              "      <td>0.098752</td>\n",
              "      <td>-0.044802</td>\n",
              "      <td>6.971704</td>\n",
              "      <td>-1.053027</td>\n",
              "    </tr>\n",
              "  </tbody>\n",
              "</table>\n",
              "</div>\n",
              "    <div class=\"colab-df-buttons\">\n",
              "      \n",
              "  <div class=\"colab-df-container\">\n",
              "    <button class=\"colab-df-convert\" onclick=\"convertToInteractive('df-e6b09326-47b6-4dfb-811b-06f77c6adeeb')\"\n",
              "            title=\"Convert this dataframe to an interactive table.\"\n",
              "            style=\"display:none;\">\n",
              "      \n",
              "  <svg xmlns=\"http://www.w3.org/2000/svg\" height=\"24px\" viewBox=\"0 -960 960 960\">\n",
              "    <path d=\"M120-120v-720h720v720H120Zm60-500h600v-160H180v160Zm220 220h160v-160H400v160Zm0 220h160v-160H400v160ZM180-400h160v-160H180v160Zm440 0h160v-160H620v160ZM180-180h160v-160H180v160Zm440 0h160v-160H620v160Z\"/>\n",
              "  </svg>\n",
              "    </button>\n",
              "    \n",
              "  <style>\n",
              "    .colab-df-container {\n",
              "      display:flex;\n",
              "      gap: 12px;\n",
              "    }\n",
              "\n",
              "    .colab-df-convert {\n",
              "      background-color: #E8F0FE;\n",
              "      border: none;\n",
              "      border-radius: 50%;\n",
              "      cursor: pointer;\n",
              "      display: none;\n",
              "      fill: #1967D2;\n",
              "      height: 32px;\n",
              "      padding: 0 0 0 0;\n",
              "      width: 32px;\n",
              "    }\n",
              "\n",
              "    .colab-df-convert:hover {\n",
              "      background-color: #E2EBFA;\n",
              "      box-shadow: 0px 1px 2px rgba(60, 64, 67, 0.3), 0px 1px 3px 1px rgba(60, 64, 67, 0.15);\n",
              "      fill: #174EA6;\n",
              "    }\n",
              "\n",
              "    .colab-df-buttons div {\n",
              "      margin-bottom: 4px;\n",
              "    }\n",
              "\n",
              "    [theme=dark] .colab-df-convert {\n",
              "      background-color: #3B4455;\n",
              "      fill: #D2E3FC;\n",
              "    }\n",
              "\n",
              "    [theme=dark] .colab-df-convert:hover {\n",
              "      background-color: #434B5C;\n",
              "      box-shadow: 0px 1px 3px 1px rgba(0, 0, 0, 0.15);\n",
              "      filter: drop-shadow(0px 1px 2px rgba(0, 0, 0, 0.3));\n",
              "      fill: #FFFFFF;\n",
              "    }\n",
              "  </style>\n",
              "\n",
              "    <script>\n",
              "      const buttonEl =\n",
              "        document.querySelector('#df-e6b09326-47b6-4dfb-811b-06f77c6adeeb button.colab-df-convert');\n",
              "      buttonEl.style.display =\n",
              "        google.colab.kernel.accessAllowed ? 'block' : 'none';\n",
              "\n",
              "      async function convertToInteractive(key) {\n",
              "        const element = document.querySelector('#df-e6b09326-47b6-4dfb-811b-06f77c6adeeb');\n",
              "        const dataTable =\n",
              "          await google.colab.kernel.invokeFunction('convertToInteractive',\n",
              "                                                    [key], {});\n",
              "        if (!dataTable) return;\n",
              "\n",
              "        const docLinkHtml = 'Like what you see? Visit the ' +\n",
              "          '<a target=\"_blank\" href=https://colab.research.google.com/notebooks/data_table.ipynb>data table notebook</a>'\n",
              "          + ' to learn more about interactive tables.';\n",
              "        element.innerHTML = '';\n",
              "        dataTable['output_type'] = 'display_data';\n",
              "        await google.colab.output.renderOutput(dataTable, element);\n",
              "        const docLink = document.createElement('div');\n",
              "        docLink.innerHTML = docLinkHtml;\n",
              "        element.appendChild(docLink);\n",
              "      }\n",
              "    </script>\n",
              "  </div>\n",
              "  \n",
              "    </div>\n",
              "  </div>\n",
              "  "
            ]
          },
          "metadata": {},
          "execution_count": 25
        }
      ]
    },
    {
      "cell_type": "markdown",
      "source": [
        "## **Normalize Features and Returns**"
      ],
      "metadata": {
        "id": "xq4-Jxdf7GNe"
      }
    },
    {
      "cell_type": "code",
      "source": [
        "scaler_X = StandardScaler()\n",
        "scaler_R = StandardScaler()\n",
        "\n",
        "X_scaled = pd.DataFrame(\n",
        "    scaler_X.fit_transform(features),\n",
        "    index=features.index,\n",
        "    columns=features.columns\n",
        ")\n",
        "\n",
        "R_scaled = pd.DataFrame(\n",
        "    scaler_R.fit_transform(returns),\n",
        "    index=returns.index,\n",
        "    columns=returns.columns\n",
        ")"
      ],
      "metadata": {
        "id": "CNiRxIKK7KPy"
      },
      "execution_count": 26,
      "outputs": []
    },
    {
      "cell_type": "markdown",
      "source": [
        "## **Verify Alignment**"
      ],
      "metadata": {
        "id": "GsJT99tC7Nnu"
      }
    },
    {
      "cell_type": "code",
      "source": [
        "print(\"Aligned Period:\", X_scaled.index.min(), \"to\", X_scaled.index.max())\n",
        "print(\"Macro columns:\", list(macro_monthly.columns))\n",
        "print(\"Market columns:\", list(market_monthly.columns))"
      ],
      "metadata": {
        "colab": {
          "base_uri": "https://localhost:8080/"
        },
        "id": "UAYIwl9L7RjH",
        "outputId": "f0433518-5710-4e0b-9256-0fa6d8d3a7a6"
      },
      "execution_count": 27,
      "outputs": [
        {
          "output_type": "stream",
          "name": "stdout",
          "text": [
            "Aligned Period: 2009-02-28 00:00:00 to 2025-01-31 00:00:00\n",
            "Macro columns: ['CPI', 'GDP', 'ZAGB10y', 'CPI_qoq', 'GDP_qoq', 'Yield_change']\n",
            "Market columns: ['Gold_change', 'USDZAR_change']\n"
          ]
        }
      ]
    }
  ]
}