{
  "nbformat": 4,
  "nbformat_minor": 0,
  "metadata": {
    "colab": {
      "provenance": [],
      "include_colab_link": true
    },
    "kernelspec": {
      "name": "python3",
      "display_name": "Python 3"
    },
    "language_info": {
      "name": "python"
    }
  },
  "cells": [
    {
      "cell_type": "markdown",
      "metadata": {
        "id": "view-in-github",
        "colab_type": "text"
      },
      "source": [
        "<a href=\"https://colab.research.google.com/github/MATHONSIMM/Capstone-Project-Group-11192/blob/main/Capstone_Project_Group_11192.ipynb\" target=\"_parent\"><img src=\"https://colab.research.google.com/assets/colab-badge.svg\" alt=\"Open In Colab\"/></a>"
      ]
    },
    {
      "cell_type": "markdown",
      "source": [
        "# **Libraries**"
      ],
      "metadata": {
        "id": "-gtjMvlwsun5"
      }
    },
    {
      "cell_type": "code",
      "source": [
        "#pip install wbdata"
      ],
      "metadata": {
        "id": "wDJ3rHDxGUux"
      },
      "execution_count": null,
      "outputs": []
    },
    {
      "cell_type": "code",
      "source": [
        "#pip install fredapi"
      ],
      "metadata": {
        "id": "btoI4rrbGY1y"
      },
      "execution_count": null,
      "outputs": []
    },
    {
      "cell_type": "code",
      "source": [
        "import yfinance as yf\n",
        "import pandas as pd\n",
        "import numpy as np\n",
        "from sklearn.preprocessing import StandardScaler\n",
        "from sklearn.decomposition import PCA\n",
        "from sklearn.model_selection import train_test_split\n",
        "from sklearn.neural_network import MLPClassifier\n",
        "import matplotlib.pyplot as plt\n",
        "import tensorflow as tf\n",
        "import wbdata\n",
        "from datetime import datetime\n",
        "from fredapi import Fred\n",
        "import gdown"
      ],
      "metadata": {
        "id": "wJxwoTdZuFev"
      },
      "execution_count": null,
      "outputs": []
    },
    {
      "cell_type": "markdown",
      "source": [
        "# **Data**"
      ],
      "metadata": {
        "id": "pYW1FYNMtcWk"
      }
    },
    {
      "cell_type": "markdown",
      "source": [
        "## **Sector ETFs**\n",
        "\n",
        "yfinance: https://finance.yahoo.com/"
      ],
      "metadata": {
        "id": "Elo9LjTotqLq"
      }
    },
    {
      "cell_type": "markdown",
      "source": [
        "### Tickers Definition"
      ],
      "metadata": {
        "id": "YLTySkrruJPF"
      }
    },
    {
      "cell_type": "code",
      "source": [
        "ETFtickers = [\n",
        "    \"STX40.JO\",   # Satrix 40\n",
        "    \"STXRES.JO\",  # Satrix RESOURCES\n",
        "    \"STXIND.JO\",  # Satrix INDUSTRIES\n",
        "    \"STXFIN.JO\",  # Satrix FINANCE\n",
        "    \"STXDIV.JO\",\n",
        "\n",
        "]\n",
        "\n",
        "\n",
        "#\"STXPRO.JO\", # property  -Started 2024 we wouls have proxied with PTXTEN (this one was disconntinued as well.)\n",
        "#    \"PREFTX.JO\" # has been illiquid\n",
        "#    \"STXGOV.JO\", #bonds -started 2020 proxy usin \" NFGOVI.JO\" and \"NFTRCI.JO\" (also discontinued)"
      ],
      "metadata": {
        "id": "LvfCzpbVtpdJ"
      },
      "execution_count": null,
      "outputs": []
    },
    {
      "cell_type": "markdown",
      "source": [
        "### Get and Clean data"
      ],
      "metadata": {
        "id": "l8mz_pRmuTDs"
      }
    },
    {
      "cell_type": "code",
      "source": [
        "# Download historical data (2008–2025)\n",
        "ETFdata = yf.download(ETFtickers, start=\"2008-01-01\", end=\"2025-09-30\", auto_adjust=False)\n",
        "\n",
        "# Extract Adjusted Close prices\n",
        "adj_close_ETFdata = ETFdata[\"Adj Close\"]\n",
        "\n",
        "# Drop columns with all NaNs (delisted / unavailable ETFs)\n",
        "adj_close_ETFdata = adj_close_ETFdata.dropna(axis=1, how=\"all\")\n",
        "\n",
        "# Forward-fill missing values (trading holidays)\n",
        "adj_close_ETFdata = adj_close_ETFdata.ffill()\n",
        "\n",
        "print(\"Available ETFs:\", adj_close_ETFdata.columns.tolist())\n",
        "print(adj_close_ETFdata.head())"
      ],
      "metadata": {
        "colab": {
          "base_uri": "https://localhost:8080/"
        },
        "id": "AibxfrYSumwA",
        "outputId": "3d9b9e81-b95c-4f75-d27a-9ba6082c86d6"
      },
      "execution_count": null,
      "outputs": [
        {
          "output_type": "stream",
          "name": "stderr",
          "text": [
            "[*********************100%***********************]  5 of 5 completed"
          ]
        },
        {
          "output_type": "stream",
          "name": "stdout",
          "text": [
            "Available ETFs: ['STX40.JO', 'STXDIV.JO', 'STXFIN.JO', 'STXIND.JO', 'STXRES.JO']\n",
            "Ticker         STX40.JO   STXDIV.JO   STXFIN.JO    STXIND.JO    STXRES.JO\n",
            "Date                                                                     \n",
            "2009-01-02  1954.315552  110.273415  593.242126  1661.408081  3969.779297\n",
            "2009-01-05  2006.502563  113.562607  604.197937  1728.917236  4068.005127\n",
            "2009-01-06  2068.250488  116.318451  618.049683  1775.427124  4237.668945\n",
            "2009-01-07  2048.311768  116.269058  612.437195  1730.261963  4188.062500\n",
            "2009-01-08  2001.735352  113.256409  601.252380  1694.699707  4069.989746\n"
          ]
        },
        {
          "output_type": "stream",
          "name": "stderr",
          "text": [
            "\n"
          ]
        }
      ]
    },
    {
      "cell_type": "markdown",
      "source": [
        "### EDA Plot"
      ],
      "metadata": {
        "id": "PGFol2DIuT54"
      }
    },
    {
      "cell_type": "code",
      "source": [
        "plt.figure(figsize=(12, 6))\n",
        "for col in adj_close_ETFdata.columns:\n",
        "    plt.plot(adj_close_ETFdata.index, adj_close_ETFdata[col], label=col)\n",
        "\n",
        "plt.title(\"Satrix ETFs Adjusted Close Prices (2008–2025)\", fontsize=14)\n",
        "plt.xlabel(\"Date\")\n",
        "plt.ylabel(\"Price (ZAR)\")\n",
        "plt.legend()\n",
        "plt.grid(True)\n",
        "plt.show()\n"
      ],
      "metadata": {
        "colab": {
          "base_uri": "https://localhost:8080/",
          "height": 565
        },
        "id": "Auwj5Wba0rUD",
        "outputId": "c4f21a4d-338d-40c3-8d50-92bdcbea5d91"
      },
      "execution_count": null,
      "outputs": [
        {
          "output_type": "display_data",
          "data": {
            "text/plain": [
              "<Figure size 1200x600 with 1 Axes>"
            ],
            "image/png": "[encoded data removed]"
          },
          "metadata": {}
        }
      ]
    },
    {
      "cell_type": "markdown",
      "source": [
        "## **Sector Macroeconomic**\n",
        "\n"
      ],
      "metadata": {
        "id": "LcnFE6E7uUVp"
      }
    },
    {
      "cell_type": "markdown",
      "source": [
        "### FRED (Federal Reserve Economic Data): https://fred.stlouisfed.org/"
      ],
      "metadata": {
        "id": "M8-Ew_Pc1tHf"
      }
    },
    {
      "cell_type": "code",
      "source": [
        "fred = Fred(api_key='db781b238641fc185968ecffff81be38')\n",
        "\n",
        "# Monthly CPI (Consumer Price Index)\n",
        "cpi = fred.get_series('ZAFCPIALLMINMEI')\n",
        "#CPALTT01ZAM657N\n",
        "\n",
        "#Monthly interest rate\n",
        "IR = fred.get_series('INTDSRZAM193N')\n",
        "\n",
        "# GDP quarterly\n",
        "GDP = fred.get_series('NGDPRSAXDCZAQ')\n",
        "\n",
        "\n",
        "\n",
        "# 10-year SAGB yield (proxied via iShares South Africa ETF (EZA))\n",
        "ZAGB = fred.get_series('IRLTLT01ZAM156N')\n",
        "\n",
        "# Combine (with aligned index)\n",
        "Freddata = pd.concat([cpi, IR, GDP, ZAGB], axis=1)\n",
        "Freddata.columns = ['CPI', 'Interest rate', 'GDP', \"ZAGB10y\"]\n",
        "Freddata = Freddata.dropna()\n",
        "print(Freddata.tail())"
      ],
      "metadata": {
        "colab": {
          "base_uri": "https://localhost:8080/"
        },
        "id": "-m16tySb3i7u",
        "outputId": "e36670b1-ff9d-4a7a-bad3-2a16eeb5fc6a"
      },
      "execution_count": null,
      "outputs": [
        {
          "output_type": "stream",
          "name": "stdout",
          "text": [
            "                 CPI  Interest rate        GDP   ZAGB10y\n",
            "2012-04-01  84.73733            5.5  1048271.7  8.289444\n",
            "2012-07-01  85.05175            5.0  1052533.5  7.555000\n",
            "2012-10-01  86.78108            5.0  1057553.5  7.666087\n",
            "2013-01-01  87.56715            5.0  1065760.3  7.253182\n",
            "2013-04-01  89.61090            5.0  1073512.5  6.997143\n"
          ]
        }
      ]
    },
    {
      "cell_type": "code",
      "source": [
        "from fredapi import Fred\n",
        "import pandas as pd\n",
        "\n",
        "fred = Fred(api_key='db781b238641fc185968ecffff81be38')\n",
        "\n",
        "# Define date range\n",
        "start_date = '2008-01-01'\n",
        "end_date = '2025-09-30'\n",
        "\n",
        "# Monthly CPI (Consumer Price Index)\n",
        "cpi = fred.get_series('ZAFCPIALLMINMEI', start_date, end_date)\n",
        "\n",
        "# Quarterly GDP\n",
        "GDP = fred.get_series('NGDPRSAXDCZAQ', start_date, end_date)\n",
        "\n",
        "# Quarterly Unemployment Rate\n",
        "#unemp = fred.get_series('ZAFURTOTQDSMEI') #data outdated\n",
        "\n",
        "# Monthly 10-year SAGB yield\n",
        "ZAGB = fred.get_series('IRLTLT01ZAM156N', start_date, end_date)\n",
        "\n",
        "# Combine (with aligned index)\n",
        "Freddata = pd.concat([cpi, GDP, ZAGB], axis=1)\n",
        "Freddata.columns = ['CPI', 'GDP', \"ZAGB10y\"]\n",
        "Freddata = Freddata.dropna()\n",
        "print(Freddata.tail())\n"
      ],
      "metadata": {
        "colab": {
          "base_uri": "https://localhost:8080/"
        },
        "id": "TacJY9f96onB",
        "outputId": "36eb27c0-0f20-45c4-abce-36e725519236"
      },
      "execution_count": null,
      "outputs": [
        {
          "output_type": "stream",
          "name": "stdout",
          "text": [
            "                 CPI        GDP    ZAGB10y\n",
            "2024-01-01  152.9674  1164447.9  11.420455\n",
            "2024-04-01  155.7972  1167433.1  12.274762\n",
            "2024-07-01  156.8977  1164042.3  11.021739\n",
            "2024-10-01  157.2121  1168684.4  10.464348\n",
            "2025-01-01  157.6837  1169838.5  10.419545\n"
          ]
        }
      ]
    },
    {
      "cell_type": "code",
      "source": [
        "# Set figure size and style\n",
        "plt.figure(figsize=(14, 8))\n",
        "plt.style.use('ggplot')\n",
        "\n",
        "# Plot each macroeconomic indicator\n",
        "for column in Freddata.columns:\n",
        "    plt.plot(Freddata.index, Freddata[column], label=column)\n",
        "\n",
        "# Add titles and labels\n",
        "plt.title('Macroeconomic Indicators for South Africa (2008–2025)', fontsize=16)\n",
        "plt.xlabel('Date', fontsize=12)\n",
        "plt.ylabel('Value', fontsize=12)\n",
        "plt.legend(loc='upper left')\n",
        "plt.tight_layout()\n",
        "plt.show()\n"
      ],
      "metadata": {
        "colab": {
          "base_uri": "https://localhost:8080/",
          "height": 727
        },
        "id": "rmhvROjD6x72",
        "outputId": "5b6c7101-45f8-4c91-e104-75c7c84110d9"
      },
      "execution_count": null,
      "outputs": [
        {
          "output_type": "display_data",
          "data": {
            "text/plain": [
              "<Figure size 1400x800 with 1 Axes>"
            ],
            "image/png": "[encoded data removed]"
          },
          "metadata": {}
        }
      ]
    },
    {
      "cell_type": "markdown",
      "source": [
        "### yfinance: https://finance.yahoo.com/"
      ],
      "metadata": {
        "id": "PflB4fqQ1lVe"
      }
    },
    {
      "cell_type": "code",
      "source": [
        "# Gold price\n",
        "gold = yf.download('GC=F', start='2008-01-01', end='2025-09-30')\n",
        "\n",
        "# USD/ZAR exchange rate\n",
        "usd_zar = yf.download('ZAR=X', start='2008-01-01', end='2025-09-30')\n",
        "\n",
        "\n",
        "print(usd_zar.tail())\n"
      ],
      "metadata": {
        "colab": {
          "base_uri": "https://localhost:8080/"
        },
        "id": "mwBZaiYbtbPy",
        "outputId": "5e133ad1-1b91-4f64-85dc-79633b80a887"
      },
      "execution_count": null,
      "outputs": [
        {
          "output_type": "stream",
          "name": "stderr",
          "text": [
            "/tmp/ipython-input-3323087067.py:2: FutureWarning: YF.download() has changed argument auto_adjust default to True\n",
            "  gold = yf.download('GC=F', start='2008-01-01', end='2025-09-30')\n",
            "[*********************100%***********************]  1 of 1 completed\n",
            "/tmp/ipython-input-3323087067.py:5: FutureWarning: YF.download() has changed argument auto_adjust default to True\n",
            "  usd_zar = yf.download('ZAR=X', start='2008-01-01', end='2025-09-30')\n",
            "[*********************100%***********************]  1 of 1 completed"
          ]
        },
        {
          "output_type": "stream",
          "name": "stdout",
          "text": [
            "Price           Close       High        Low       Open Volume\n",
            "Ticker          ZAR=X      ZAR=X      ZAR=X      ZAR=X  ZAR=X\n",
            "Date                                                         \n",
            "2025-09-23  17.330900  17.381300  17.228701  17.330900      0\n",
            "2025-09-24  17.228100  17.344999  17.207001  17.228100      0\n",
            "2025-09-25  17.327280  17.440630  17.280100  17.327280      0\n",
            "2025-09-26  17.422001  17.482500  17.336100  17.422001      0\n",
            "2025-09-29  17.340401  17.349091  17.238501  17.340401      0\n"
          ]
        },
        {
          "output_type": "stream",
          "name": "stderr",
          "text": [
            "\n"
          ]
        }
      ]
    },
    {
      "cell_type": "code",
      "source": [
        "Macrotickers = [\n",
        "    \"GC=F\",   # Gold price\n",
        "    \"ZAR=X\",  # USD/ZAR Exchange rate\n",
        "]"
      ],
      "metadata": {
        "id": "rVAW1X3Najnw"
      },
      "execution_count": null,
      "outputs": []
    },
    {
      "cell_type": "code",
      "source": [
        "# Download historical data (2008–2025)\n",
        "MacroYfindata = yf.download(Macrotickers, start=\"2008-01-01\", end=\"2025-09-30\", auto_adjust=False)\n",
        "\n",
        "# Extract Adjusted Close prices\n",
        "MacroYfinadj_close_data = MacroYfindata[\"Adj Close\"]\n",
        "\n",
        "# Drop columns with all NaNs (delisted / unavailable ETFs)\n",
        "MacroYfinadj_close_data = MacroYfinadj_close_data.dropna(axis=1, how=\"all\")\n",
        "\n",
        "# Forward-fill missing values (trading holidays)\n",
        "MacroYfinadj_close_data = MacroYfinadj_close_data.ffill()\n",
        "\n",
        "print(\"Available ETFs:\", MacroYfinadj_close_data.columns.tolist())\n",
        "print(MacroYfinadj_close_data.head())"
      ],
      "metadata": {
        "colab": {
          "base_uri": "https://localhost:8080/"
        },
        "id": "0IufcvVTZKeq",
        "outputId": "c4a13237-12f4-4f73-cb36-c638fa1c7195"
      },
      "execution_count": null,
      "outputs": [
        {
          "output_type": "stream",
          "name": "stderr",
          "text": [
            "[*********************100%***********************]  2 of 2 completed"
          ]
        },
        {
          "output_type": "stream",
          "name": "stdout",
          "text": [
            "Available ETFs: ['GC=F', 'ZAR=X']\n",
            "Ticker            GC=F   ZAR=X\n",
            "Date                          \n",
            "2008-01-01         NaN  6.8464\n",
            "2008-01-02  857.000000  6.8220\n",
            "2008-01-03  866.400024  6.8400\n",
            "2008-01-04  863.099976  6.8250\n",
            "2008-01-07  859.599976  6.9132\n"
          ]
        },
        {
          "output_type": "stream",
          "name": "stderr",
          "text": [
            "\n"
          ]
        }
      ]
    },
    {
      "cell_type": "markdown",
      "source": [
        "### South African Reserve Bank (SARB) : https://www.resbank.co.za/en/home/what-we-do/statistics/key-statistics/"
      ],
      "metadata": {
        "id": "XKRd-RCHVRqb"
      }
    },
    {
      "cell_type": "code",
      "source": [
        "file_id = \"1q6zBoxXQ377W6HpnCO6gG5NkcjDPO6wR\"\n",
        "url = f\"https://drive.google.com/uc?id={file_id}\"\n",
        "\n",
        "# Download and read the CSV\n",
        "gdown.download(url, \"data.csv\", quiet=True)\n",
        "df = pd.read_csv(\"data.csv\", skiprows=3)\n",
        "\n",
        "# Preview the data\n",
        "print(df.head())"
      ],
      "metadata": {
        "colab": {
          "base_uri": "https://localhost:8080/"
        },
        "id": "fdow8laWVfhA",
        "outputId": "ed8c0652-f03e-462c-b052-c938c394cfc2"
      },
      "execution_count": null,
      "outputs": [
        {
          "output_type": "stream",
          "name": "stdout",
          "text": [
            "          Date  Value\n",
            "0   2025-09-30    7.0\n",
            "1   2025-09-29    7.0\n",
            "2   2025-09-26    7.0\n",
            "3   2025-09-25    7.0\n",
            "4   2025-09-23    7.0\n"
          ]
        }
      ]
    },
    {
      "cell_type": "markdown",
      "source": [
        "# **Data Processing**"
      ],
      "metadata": {
        "id": "n-ZkBZR7zbbX"
      }
    },
    {
      "cell_type": "markdown",
      "source": [
        "## **Load Full data**"
      ],
      "metadata": {
        "id": "0b2ItcKYzpA5"
      }
    },
    {
      "cell_type": "code",
      "source": [
        "# Load all data (already downloaded from Yahoo and FRED)\n",
        "etf_data = adj_close_ETFdata.copy()            # JSE Sector ETFs\n",
        "macro_data = Freddata.copy()                   # CPI, GDP, 10Y yield\n",
        "market_data = MacroYfinadj_close_data.copy()   # Gold, USD/ZAR\n",
        "\n",
        "# Initial inspection\n",
        "print(\"ETF shape:\", etf_data.shape)\n",
        "print(\"Macro shape:\", macro_data.shape)\n",
        "print(\"Market shape:\", market_data.shape)\n"
      ],
      "metadata": {
        "colab": {
          "base_uri": "https://localhost:8080/"
        },
        "id": "1LLKqrfjzhJu",
        "outputId": "5556dd24-3308-4701-e588-61a64521e0e4"
      },
      "execution_count": null,
      "outputs": [
        {
          "output_type": "stream",
          "name": "stdout",
          "text": [
            "ETF shape: (4198, 5)\n",
            "Macro shape: (69, 3)\n",
            "Market shape: (4628, 2)\n"
          ]
        }
      ]
    },
    {
      "cell_type": "code",
      "source": [
        "macro_data.tail()"
      ],
      "metadata": {
        "colab": {
          "base_uri": "https://localhost:8080/",
          "height": 206
        },
        "id": "3b33xag00sAE",
        "outputId": "3e527c6b-9c9c-423e-ff27-96a2586275f7"
      },
      "execution_count": null,
      "outputs": [
        {
          "output_type": "execute_result",
          "data": {
            "text/plain": [
              "                 CPI        GDP    ZAGB10y\n",
              "2024-01-01  152.9674  1164447.9  11.420455\n",
              "2024-04-01  155.7972  1167433.1  12.274762\n",
              "2024-07-01  156.8977  1164042.3  11.021739\n",
              "2024-10-01  157.2121  1168684.4  10.464348\n",
              "2025-01-01  157.6837  1169838.5  10.419545"
            ],
            "text/html": [
              "\n",
              "  <div id=\"df-50f4a0f9-84f3-4be9-9bc1-6e52f0036ea1\" class=\"colab-df-container\">\n",
              "    <div>\n",
              "<style scoped>\n",
              "    .dataframe tbody tr th:only-of-type {\n",
              "        vertical-align: middle;\n",
              "    }\n",
              "\n",
              "    .dataframe tbody tr th {\n",
              "        vertical-align: top;\n",
              "    }\n",
              "\n",
              "    .dataframe thead th {\n",
              "        text-align: right;\n",
              "    }\n",
              "</style>\n",
              "<table border=\"1\" class=\"dataframe\">\n",
              "  <thead>\n",
              "    <tr style=\"text-align: right;\">\n",
              "      <th></th>\n",
              "      <th>CPI</th>\n",
              "      <th>GDP</th>\n",
              "      <th>ZAGB10y</th>\n",
              "    </tr>\n",
              "  </thead>\n",
              "  <tbody>\n",
              "    <tr>\n",
              "      <th>2024-01-01</th>\n",
              "      <td>152.9674</td>\n",
              "      <td>1164447.9</td>\n",
              "      <td>11.420455</td>\n",
              "    </tr>\n",
              "    <tr>\n",
              "      <th>2024-04-01</th>\n",
              "      <td>155.7972</td>\n",
              "      <td>1167433.1</td>\n",
              "      <td>12.274762</td>\n",
              "    </tr>\n",
              "    <tr>\n",
              "      <th>2024-07-01</th>\n",
              "      <td>156.8977</td>\n",
              "      <td>1164042.3</td>\n",
              "      <td>11.021739</td>\n",
              "    </tr>\n",
              "    <tr>\n",
              "      <th>2024-10-01</th>\n",
              "      <td>157.2121</td>\n",
              "      <td>1168684.4</td>\n",
              "      <td>10.464348</td>\n",
              "    </tr>\n",
              "    <tr>\n",
              "      <th>2025-01-01</th>\n",
              "      <td>157.6837</td>\n",
              "      <td>1169838.5</td>\n",
              "      <td>10.419545</td>\n",
              "    </tr>\n",
              "  </tbody>\n",
              "</table>\n",
              "</div>\n",
              "    <div class=\"colab-df-buttons\">\n",
              "\n",
              "  <div class=\"colab-df-container\">\n",
              "    <button class=\"colab-df-convert\" onclick=\"convertToInteractive('df-50f4a0f9-84f3-4be9-9bc1-6e52f0036ea1')\"\n",
              "            title=\"Convert this dataframe to an interactive table.\"\n",
              "            style=\"display:none;\">\n",
              "\n",
              "  <svg xmlns=\"http://www.w3.org/2000/svg\" height=\"24px\" viewBox=\"0 -960 960 960\">\n",
              "    <path d=\"M120-120v-720h720v720H120Zm60-500h600v-160H180v160Zm220 220h160v-160H400v160Zm0 220h160v-160H400v160ZM180-400h160v-160H180v160Zm440 0h160v-160H620v160ZM180-180h160v-160H180v160Zm440 0h160v-160H620v160Z\"/>\n",
              "  </svg>\n",
              "    </button>\n",
              "\n",
              "  <style>\n",
              "    .colab-df-container {\n",
              "      display:flex;\n",
              "      gap: 12px;\n",
              "    }\n",
              "\n",
              "    .colab-df-convert {\n",
              "      background-color: #E8F0FE;\n",
              "      border: none;\n",
              "      border-radius: 50%;\n",
              "      cursor: pointer;\n",
              "      display: none;\n",
              "      fill: #1967D2;\n",
              "      height: 32px;\n",
              "      padding: 0 0 0 0;\n",
              "      width: 32px;\n",
              "    }\n",
              "\n",
              "    .colab-df-convert:hover {\n",
              "      background-color: #E2EBFA;\n",
              "      box-shadow: 0px 1px 2px rgba(60, 64, 67, 0.3), 0px 1px 3px 1px rgba(60, 64, 67, 0.15);\n",
              "      fill: #174EA6;\n",
              "    }\n",
              "\n",
              "    .colab-df-buttons div {\n",
              "      margin-bottom: 4px;\n",
              "    }\n",
              "\n",
              "    [theme=dark] .colab-df-convert {\n",
              "      background-color: #3B4455;\n",
              "      fill: #D2E3FC;\n",
              "    }\n",
              "\n",
              "    [theme=dark] .colab-df-convert:hover {\n",
              "      background-color: #434B5C;\n",
              "      box-shadow: 0px 1px 3px 1px rgba(0, 0, 0, 0.15);\n",
              "      filter: drop-shadow(0px 1px 2px rgba(0, 0, 0, 0.3));\n",
              "      fill: #FFFFFF;\n",
              "    }\n",
              "  </style>\n",
              "\n",
              "    <script>\n",
              "      const buttonEl =\n",
              "        document.querySelector('#df-50f4a0f9-84f3-4be9-9bc1-6e52f0036ea1 button.colab-df-convert');\n",
              "      buttonEl.style.display =\n",
              "        google.colab.kernel.accessAllowed ? 'block' : 'none';\n",
              "\n",
              "      async function convertToInteractive(key) {\n",
              "        const element = document.querySelector('#df-50f4a0f9-84f3-4be9-9bc1-6e52f0036ea1');\n",
              "        const dataTable =\n",
              "          await google.colab.kernel.invokeFunction('convertToInteractive',\n",
              "                                                    [key], {});\n",
              "        if (!dataTable) return;\n",
              "\n",
              "        const docLinkHtml = 'Like what you see? Visit the ' +\n",
              "          '<a target=\"_blank\" href=https://colab.research.google.com/notebooks/data_table.ipynb>data table notebook</a>'\n",
              "          + ' to learn more about interactive tables.';\n",
              "        element.innerHTML = '';\n",
              "        dataTable['output_type'] = 'display_data';\n",
              "        await google.colab.output.renderOutput(dataTable, element);\n",
              "        const docLink = document.createElement('div');\n",
              "        docLink.innerHTML = docLinkHtml;\n",
              "        element.appendChild(docLink);\n",
              "      }\n",
              "    </script>\n",
              "  </div>\n",
              "\n",
              "\n",
              "    <div id=\"df-abae36ac-7619-47aa-9c80-83375eacaab2\">\n",
              "      <button class=\"colab-df-quickchart\" onclick=\"quickchart('df-abae36ac-7619-47aa-9c80-83375eacaab2')\"\n",
              "                title=\"Suggest charts\"\n",
              "                style=\"display:none;\">\n",
              "\n",
              "<svg xmlns=\"http://www.w3.org/2000/svg\" height=\"24px\"viewBox=\"0 0 24 24\"\n",
              "     width=\"24px\">\n",
              "    <g>\n",
              "        <path d=\"M19 3H5c-1.1 0-2 .9-2 2v14c0 1.1.9 2 2 2h14c1.1 0 2-.9 2-2V5c0-1.1-.9-2-2-2zM9 17H7v-7h2v7zm4 0h-2V7h2v10zm4 0h-2v-4h2v4z\"/>\n",
              "    </g>\n",
              "</svg>\n",
              "      </button>\n",
              "\n",
              "<style>\n",
              "  .colab-df-quickchart {\n",
              "      --bg-color: #E8F0FE;\n",
              "      --fill-color: #1967D2;\n",
              "      --hover-bg-color: #E2EBFA;\n",
              "      --hover-fill-color: #174EA6;\n",
              "      --disabled-fill-color: #AAA;\n",
              "      --disabled-bg-color: #DDD;\n",
              "  }\n",
              "\n",
              "  [theme=dark] .colab-df-quickchart {\n",
              "      --bg-color: #3B4455;\n",
              "      --fill-color: #D2E3FC;\n",
              "      --hover-bg-color: #434B5C;\n",
              "      --hover-fill-color: #FFFFFF;\n",
              "      --disabled-bg-color: #3B4455;\n",
              "      --disabled-fill-color: #666;\n",
              "  }\n",
              "\n",
              "  .colab-df-quickchart {\n",
              "    background-color: var(--bg-color);\n",
              "    border: none;\n",
              "    border-radius: 50%;\n",
              "    cursor: pointer;\n",
              "    display: none;\n",
              "    fill: var(--fill-color);\n",
              "    height: 32px;\n",
              "    padding: 0;\n",
              "    width: 32px;\n",
              "  }\n",
              "\n",
              "  .colab-df-quickchart:hover {\n",
              "    background-color: var(--hover-bg-color);\n",
              "    box-shadow: 0 1px 2px rgba(60, 64, 67, 0.3), 0 1px 3px 1px rgba(60, 64, 67, 0.15);\n",
              "    fill: var(--button-hover-fill-color);\n",
              "  }\n",
              "\n",
              "  .colab-df-quickchart-complete:disabled,\n",
              "  .colab-df-quickchart-complete:disabled:hover {\n",
              "    background-color: var(--disabled-bg-color);\n",
              "    fill: var(--disabled-fill-color);\n",
              "    box-shadow: none;\n",
              "  }\n",
              "\n",
              "  .colab-df-spinner {\n",
              "    border: 2px solid var(--fill-color);\n",
              "    border-color: transparent;\n",
              "    border-bottom-color: var(--fill-color);\n",
              "    animation:\n",
              "      spin 1s steps(1) infinite;\n",
              "  }\n",
              "\n",
              "  @keyframes spin {\n",
              "    0% {\n",
              "      border-color: transparent;\n",
              "      border-bottom-color: var(--fill-color);\n",
              "      border-left-color: var(--fill-color);\n",
              "    }\n",
              "    20% {\n",
              "      border-color: transparent;\n",
              "      border-left-color: var(--fill-color);\n",
              "      border-top-color: var(--fill-color);\n",
              "    }\n",
              "    30% {\n",
              "      border-color: transparent;\n",
              "      border-left-color: var(--fill-color);\n",
              "      border-top-color: var(--fill-color);\n",
              "      border-right-color: var(--fill-color);\n",
              "    }\n",
              "    40% {\n",
              "      border-color: transparent;\n",
              "      border-right-color: var(--fill-color);\n",
              "      border-top-color: var(--fill-color);\n",
              "    }\n",
              "    60% {\n",
              "      border-color: transparent;\n",
              "      border-right-color: var(--fill-color);\n",
              "    }\n",
              "    80% {\n",
              "      border-color: transparent;\n",
              "      border-right-color: var(--fill-color);\n",
              "      border-bottom-color: var(--fill-color);\n",
              "    }\n",
              "    90% {\n",
              "      border-color: transparent;\n",
              "      border-bottom-color: var(--fill-color);\n",
              "    }\n",
              "  }\n",
              "</style>\n",
              "\n",
              "      <script>\n",
              "        async function quickchart(key) {\n",
              "          const quickchartButtonEl =\n",
              "            document.querySelector('#' + key + ' button');\n",
              "          quickchartButtonEl.disabled = true;  // To prevent multiple clicks.\n",
              "          quickchartButtonEl.classList.add('colab-df-spinner');\n",
              "          try {\n",
              "            const charts = await google.colab.kernel.invokeFunction(\n",
              "                'suggestCharts', [key], {});\n",
              "          } catch (error) {\n",
              "            console.error('Error during call to suggestCharts:', error);\n",
              "          }\n",
              "          quickchartButtonEl.classList.remove('colab-df-spinner');\n",
              "          quickchartButtonEl.classList.add('colab-df-quickchart-complete');\n",
              "        }\n",
              "        (() => {\n",
              "          let quickchartButtonEl =\n",
              "            document.querySelector('#df-abae36ac-7619-47aa-9c80-83375eacaab2 button');\n",
              "          quickchartButtonEl.style.display =\n",
              "            google.colab.kernel.accessAllowed ? 'block' : 'none';\n",
              "        })();\n",
              "      </script>\n",
              "    </div>\n",
              "\n",
              "    </div>\n",
              "  </div>\n"
            ],
            "application/vnd.google.colaboratory.intrinsic+json": {
              "type": "dataframe",
              "summary": "{\n  \"name\": \"macro_data\",\n  \"rows\": 5,\n  \"fields\": [\n    {\n      \"column\": \"CPI\",\n      \"properties\": {\n        \"dtype\": \"number\",\n        \"std\": 1.8898011051430736,\n        \"min\": 152.9674,\n        \"max\": 157.6837,\n        \"num_unique_values\": 5,\n        \"samples\": [\n          155.7972,\n          157.6837,\n          156.8977\n        ],\n        \"semantic_type\": \"\",\n        \"description\": \"\"\n      }\n    },\n    {\n      \"column\": \"GDP\",\n      \"properties\": {\n        \"dtype\": \"number\",\n        \"std\": 2563.2852958654425,\n        \"min\": 1164042.3,\n        \"max\": 1169838.5,\n        \"num_unique_values\": 5,\n        \"samples\": [\n          1167433.1,\n          1169838.5,\n          1164042.3\n        ],\n        \"semantic_type\": \"\",\n        \"description\": \"\"\n      }\n    },\n    {\n      \"column\": \"ZAGB10y\",\n      \"properties\": {\n        \"dtype\": \"number\",\n        \"std\": 0.7671244013119842,\n        \"min\": 10.419545454545457,\n        \"max\": 12.274761904761903,\n        \"num_unique_values\": 5,\n        \"samples\": [\n          12.274761904761903,\n          10.419545454545457,\n          11.021739130434783\n        ],\n        \"semantic_type\": \"\",\n        \"description\": \"\"\n      }\n    }\n  ]\n}"
            }
          },
          "metadata": {},
          "execution_count": 65
        }
      ]
    },
    {
      "cell_type": "markdown",
      "source": [
        "## **Missing Values**"
      ],
      "metadata": {
        "id": "sno8mDXpzzNb"
      }
    },
    {
      "cell_type": "code",
      "source": [
        "# Handle missing values\n",
        "etf_data = etf_data.asfreq('B').ffill().bfill()  # fill forward and backward for continuity\n",
        "#macro_data = macro_data.resample('ME').interpolate(method='linear').ffill()\n",
        "market_data = market_data.asfreq('B').ffill().bfill()\n",
        "\n",
        "# Drop columns with excessive NaNs (if any ETF was delisted or thinly traded)\n",
        "threshold = 0.9 * len(etf_data)\n",
        "etf_data = etf_data.dropna(axis=1, thresh=threshold)\n"
      ],
      "metadata": {
        "id": "OLldUMcaz2FE"
      },
      "execution_count": null,
      "outputs": []
    },
    {
      "cell_type": "code",
      "source": [
        "print(\"Missing values after cleaning:\")\n",
        "print(etf_data.isna().mean().sort_values(ascending=False).head())"
      ],
      "metadata": {
        "colab": {
          "base_uri": "https://localhost:8080/"
        },
        "id": "T1SX5WPN0LOY",
        "outputId": "8050c87f-63d4-47e7-e97d-f1b1a744ca0d"
      },
      "execution_count": null,
      "outputs": [
        {
          "output_type": "stream",
          "name": "stdout",
          "text": [
            "Missing values after cleaning:\n",
            "Ticker\n",
            "STX40.JO     0.0\n",
            "STXDIV.JO    0.0\n",
            "STXFIN.JO    0.0\n",
            "STXIND.JO    0.0\n",
            "STXRES.JO    0.0\n",
            "dtype: float64\n"
          ]
        }
      ]
    },
    {
      "cell_type": "markdown",
      "source": [
        "## **Outlier Detection and Winsorization**"
      ],
      "metadata": {
        "id": "wgg7PlNv2xUW"
      }
    },
    {
      "cell_type": "code",
      "source": [
        "def winsorize_series(s, factor=3.0):\n",
        "    \"\"\"Cap extreme return outliers using the IQR rule.\"\"\"\n",
        "    q1, q3 = s.quantile([0.25, 0.75])\n",
        "    iqr = q3 - q1\n",
        "    lower, upper = q1 - factor * iqr, q3 + factor * iqr\n",
        "    return s.clip(lower, upper)\n",
        "\n",
        "# Calculate daily log returns and winsorize\n",
        "daily_returns = np.log(etf_data / etf_data.shift(1))\n",
        "daily_returns = daily_returns.apply(winsorize_series, axis=0).fillna(0)"
      ],
      "metadata": {
        "id": "wOi_gLo52_XU"
      },
      "execution_count": null,
      "outputs": []
    },
    {
      "cell_type": "markdown",
      "source": [
        "## **Aggregate Returns to Monthly Frequency**"
      ],
      "metadata": {
        "id": "wr_rPWQX3PEG"
      }
    },
    {
      "cell_type": "code",
      "source": [
        "monthly_prices = etf_data.resample('ME').last()\n",
        "monthly_returns = np.log(monthly_prices / monthly_prices.shift(1)).dropna()"
      ],
      "metadata": {
        "id": "yxWINa8B3ipS"
      },
      "execution_count": null,
      "outputs": []
    },
    {
      "cell_type": "markdown",
      "source": [
        "## **Upsample Quarterly Macroeconomic Data**"
      ],
      "metadata": {
        "id": "4sXF2mqd3oBA"
      }
    },
    {
      "cell_type": "code",
      "source": [
        "macro_monthly = macro_data.resample('ME').ffill()\n",
        "\n",
        "# Compute quarterly or annual growth/change metrics\n",
        "# CPI quarter-on-quarter change\n",
        "macro_monthly['CPI_qoq'] = macro_monthly['CPI'].pct_change(3) * 100\n",
        "macro_monthly['GDP_qoq'] = macro_monthly['GDP'].pct_change(3) * 100\n",
        "macro_monthly['Yield_change'] = macro_monthly['ZAGB10y'].diff()\n",
        "\n",
        "# Drop first few missing rows from growth computations\n",
        "macro_monthly = macro_monthly.dropna()"
      ],
      "metadata": {
        "id": "MoDrMtZT3sV-"
      },
      "execution_count": null,
      "outputs": []
    },
    {
      "cell_type": "code",
      "source": [
        "#macro_monthly"
      ],
      "metadata": {
        "id": "Dk0tGinT6cwc"
      },
      "execution_count": null,
      "outputs": []
    },
    {
      "cell_type": "markdown",
      "source": [
        "## **Process Market Proxy Variables (Gold, USD/ZAR)**"
      ],
      "metadata": {
        "id": "ytMvUmqx6DAg"
      }
    },
    {
      "cell_type": "code",
      "source": [
        "market_monthly = market_data.resample('ME').last().ffill()\n",
        "market_monthly['Gold_change'] = market_monthly['GC=F'].pct_change() * 100\n",
        "market_monthly['USDZAR_change'] = market_monthly['ZAR=X'].pct_change() * 100\n",
        "market_monthly = market_monthly[['Gold_change', 'USDZAR_change']].dropna()"
      ],
      "metadata": {
        "id": "QRlMs1Mg6G4a"
      },
      "execution_count": null,
      "outputs": []
    },
    {
      "cell_type": "code",
      "source": [
        "#market_monthly"
      ],
      "metadata": {
        "id": "-BHjYJn86UFm"
      },
      "execution_count": null,
      "outputs": []
    },
    {
      "cell_type": "markdown",
      "source": [
        "## **Merge All Data and Align by Date**"
      ],
      "metadata": {
        "id": "AX3ffuIL6nfk"
      }
    },
    {
      "cell_type": "code",
      "source": [
        "# Align all datasets on common monthly index\n",
        "data_all = monthly_returns.join([macro_monthly, market_monthly], how='inner')\n",
        "\n",
        "# Drop any rows with residual missing values\n",
        "data_all = data_all.dropna(axis=0, how='any')\n",
        "\n",
        "# Separate predictors (X) and targets (sector returns R)\n",
        "returns = monthly_returns.loc[data_all.index]\n",
        "features = data_all.drop(columns=returns.columns, errors='ignore')\n",
        "\n",
        "print(\"Final dataset shape:\")\n",
        "print(\"Returns (R):\", returns.shape)\n",
        "print(\"Features (X):\", features.shape)"
      ],
      "metadata": {
        "colab": {
          "base_uri": "https://localhost:8080/"
        },
        "id": "zgfHtjmS6uAX",
        "outputId": "04c512e4-18c3-4005-b73a-22a1eafbb168"
      },
      "execution_count": null,
      "outputs": [
        {
          "output_type": "stream",
          "name": "stdout",
          "text": [
            "Final dataset shape:\n",
            "Returns (R): (192, 5)\n",
            "Features (X): (192, 8)\n"
          ]
        }
      ]
    },
    {
      "cell_type": "code",
      "source": [
        "data_all.tail()"
      ],
      "metadata": {
        "colab": {
          "base_uri": "https://localhost:8080/",
          "height": 206
        },
        "id": "CK3Lz9Ty63Br",
        "outputId": "62b880ac-9df4-4b88-944e-7fbb516c2315"
      },
      "execution_count": null,
      "outputs": [
        {
          "output_type": "execute_result",
          "data": {
            "text/plain": [
              "            STX40.JO  STXDIV.JO  STXFIN.JO  STXIND.JO  STXRES.JO       CPI  \\\n",
              "2024-09-30  0.039880   0.047849   0.031988   0.055589   0.032541  156.8977   \n",
              "2024-10-31 -0.025963  -0.021605  -0.022841  -0.043310   0.016970  157.2121   \n",
              "2024-11-30 -0.013219  -0.014760   0.004726   0.003149  -0.073687  157.2121   \n",
              "2024-12-31 -0.007596  -0.011215  -0.017598   0.026454  -0.059476  157.2121   \n",
              "2025-01-31  0.025240  -0.014998  -0.040034   0.012710   0.161131  157.6837   \n",
              "\n",
              "                  GDP    ZAGB10y   CPI_qoq   GDP_qoq  Yield_change  \\\n",
              "2024-09-30  1164042.3  11.021739  0.706367 -0.290449      0.000000   \n",
              "2024-10-31  1168684.4  10.464348  0.200385  0.398791     -0.557391   \n",
              "2024-11-30  1168684.4  10.464348  0.200385  0.398791      0.000000   \n",
              "2024-12-31  1168684.4  10.464348  0.200385  0.398791      0.000000   \n",
              "2025-01-31  1169838.5  10.419545  0.299977  0.098752     -0.044802   \n",
              "\n",
              "            Gold_change  USDZAR_change  \n",
              "2024-09-30     5.706153      -3.608558  \n",
              "2024-10-31     3.876937       3.263710  \n",
              "2024-11-30    -2.968997       2.467568  \n",
              "2024-12-31    -1.046295       3.784147  \n",
              "2025-01-31     6.971704      -1.053027  "
            ],
            "text/html": [
              "\n",
              "  <div id=\"df-e70db5c6-83d2-4c83-b26f-a6c055d9e650\" class=\"colab-df-container\">\n",
              "    <div>\n",
              "<style scoped>\n",
              "    .dataframe tbody tr th:only-of-type {\n",
              "        vertical-align: middle;\n",
              "    }\n",
              "\n",
              "    .dataframe tbody tr th {\n",
              "        vertical-align: top;\n",
              "    }\n",
              "\n",
              "    .dataframe thead th {\n",
              "        text-align: right;\n",
              "    }\n",
              "</style>\n",
              "<table border=\"1\" class=\"dataframe\">\n",
              "  <thead>\n",
              "    <tr style=\"text-align: right;\">\n",
              "      <th></th>\n",
              "      <th>STX40.JO</th>\n",
              "      <th>STXDIV.JO</th>\n",
              "      <th>STXFIN.JO</th>\n",
              "      <th>STXIND.JO</th>\n",
              "      <th>STXRES.JO</th>\n",
              "      <th>CPI</th>\n",
              "      <th>GDP</th>\n",
              "      <th>ZAGB10y</th>\n",
              "      <th>CPI_qoq</th>\n",
              "      <th>GDP_qoq</th>\n",
              "      <th>Yield_change</th>\n",
              "      <th>Gold_change</th>\n",
              "      <th>USDZAR_change</th>\n",
              "    </tr>\n",
              "  </thead>\n",
              "  <tbody>\n",
              "    <tr>\n",
              "      <th>2024-09-30</th>\n",
              "      <td>0.039880</td>\n",
              "      <td>0.047849</td>\n",
              "      <td>0.031988</td>\n",
              "      <td>0.055589</td>\n",
              "      <td>0.032541</td>\n",
              "      <td>156.8977</td>\n",
              "      <td>1164042.3</td>\n",
              "      <td>11.021739</td>\n",
              "      <td>0.706367</td>\n",
              "      <td>-0.290449</td>\n",
              "      <td>0.000000</td>\n",
              "      <td>5.706153</td>\n",
              "      <td>-3.608558</td>\n",
              "    </tr>\n",
              "    <tr>\n",
              "      <th>2024-10-31</th>\n",
              "      <td>-0.025963</td>\n",
              "      <td>-0.021605</td>\n",
              "      <td>-0.022841</td>\n",
              "      <td>-0.043310</td>\n",
              "      <td>0.016970</td>\n",
              "      <td>157.2121</td>\n",
              "      <td>1168684.4</td>\n",
              "      <td>10.464348</td>\n",
              "      <td>0.200385</td>\n",
              "      <td>0.398791</td>\n",
              "      <td>-0.557391</td>\n",
              "      <td>3.876937</td>\n",
              "      <td>3.263710</td>\n",
              "    </tr>\n",
              "    <tr>\n",
              "      <th>2024-11-30</th>\n",
              "      <td>-0.013219</td>\n",
              "      <td>-0.014760</td>\n",
              "      <td>0.004726</td>\n",
              "      <td>0.003149</td>\n",
              "      <td>-0.073687</td>\n",
              "      <td>157.2121</td>\n",
              "      <td>1168684.4</td>\n",
              "      <td>10.464348</td>\n",
              "      <td>0.200385</td>\n",
              "      <td>0.398791</td>\n",
              "      <td>0.000000</td>\n",
              "      <td>-2.968997</td>\n",
              "      <td>2.467568</td>\n",
              "    </tr>\n",
              "    <tr>\n",
              "      <th>2024-12-31</th>\n",
              "      <td>-0.007596</td>\n",
              "      <td>-0.011215</td>\n",
              "      <td>-0.017598</td>\n",
              "      <td>0.026454</td>\n",
              "      <td>-0.059476</td>\n",
              "      <td>157.2121</td>\n",
              "      <td>1168684.4</td>\n",
              "      <td>10.464348</td>\n",
              "      <td>0.200385</td>\n",
              "      <td>0.398791</td>\n",
              "      <td>0.000000</td>\n",
              "      <td>-1.046295</td>\n",
              "      <td>3.784147</td>\n",
              "    </tr>\n",
              "    <tr>\n",
              "      <th>2025-01-31</th>\n",
              "      <td>0.025240</td>\n",
              "      <td>-0.014998</td>\n",
              "      <td>-0.040034</td>\n",
              "      <td>0.012710</td>\n",
              "      <td>0.161131</td>\n",
              "      <td>157.6837</td>\n",
              "      <td>1169838.5</td>\n",
              "      <td>10.419545</td>\n",
              "      <td>0.299977</td>\n",
              "      <td>0.098752</td>\n",
              "      <td>-0.044802</td>\n",
              "      <td>6.971704</td>\n",
              "      <td>-1.053027</td>\n",
              "    </tr>\n",
              "  </tbody>\n",
              "</table>\n",
              "</div>\n",
              "    <div class=\"colab-df-buttons\">\n",
              "\n",
              "  <div class=\"colab-df-container\">\n",
              "    <button class=\"colab-df-convert\" onclick=\"convertToInteractive('df-e70db5c6-83d2-4c83-b26f-a6c055d9e650')\"\n",
              "            title=\"Convert this dataframe to an interactive table.\"\n",
              "            style=\"display:none;\">\n",
              "\n",
              "  <svg xmlns=\"http://www.w3.org/2000/svg\" height=\"24px\" viewBox=\"0 -960 960 960\">\n",
              "    <path d=\"M120-120v-720h720v720H120Zm60-500h600v-160H180v160Zm220 220h160v-160H400v160Zm0 220h160v-160H400v160ZM180-400h160v-160H180v160Zm440 0h160v-160H620v160ZM180-180h160v-160H180v160Zm440 0h160v-160H620v160Z\"/>\n",
              "  </svg>\n",
              "    </button>\n",
              "\n",
              "  <style>\n",
              "    .colab-df-container {\n",
              "      display:flex;\n",
              "      gap: 12px;\n",
              "    }\n",
              "\n",
              "    .colab-df-convert {\n",
              "      background-color: #E8F0FE;\n",
              "      border: none;\n",
              "      border-radius: 50%;\n",
              "      cursor: pointer;\n",
              "      display: none;\n",
              "      fill: #1967D2;\n",
              "      height: 32px;\n",
              "      padding: 0 0 0 0;\n",
              "      width: 32px;\n",
              "    }\n",
              "\n",
              "    .colab-df-convert:hover {\n",
              "      background-color: #E2EBFA;\n",
              "      box-shadow: 0px 1px 2px rgba(60, 64, 67, 0.3), 0px 1px 3px 1px rgba(60, 64, 67, 0.15);\n",
              "      fill: #174EA6;\n",
              "    }\n",
              "\n",
              "    .colab-df-buttons div {\n",
              "      margin-bottom: 4px;\n",
              "    }\n",
              "\n",
              "    [theme=dark] .colab-df-convert {\n",
              "      background-color: #3B4455;\n",
              "      fill: #D2E3FC;\n",
              "    }\n",
              "\n",
              "    [theme=dark] .colab-df-convert:hover {\n",
              "      background-color: #434B5C;\n",
              "      box-shadow: 0px 1px 3px 1px rgba(0, 0, 0, 0.15);\n",
              "      filter: drop-shadow(0px 1px 2px rgba(0, 0, 0, 0.3));\n",
              "      fill: #FFFFFF;\n",
              "    }\n",
              "  </style>\n",
              "\n",
              "    <script>\n",
              "      const buttonEl =\n",
              "        document.querySelector('#df-e70db5c6-83d2-4c83-b26f-a6c055d9e650 button.colab-df-convert');\n",
              "      buttonEl.style.display =\n",
              "        google.colab.kernel.accessAllowed ? 'block' : 'none';\n",
              "\n",
              "      async function convertToInteractive(key) {\n",
              "        const element = document.querySelector('#df-e70db5c6-83d2-4c83-b26f-a6c055d9e650');\n",
              "        const dataTable =\n",
              "          await google.colab.kernel.invokeFunction('convertToInteractive',\n",
              "                                                    [key], {});\n",
              "        if (!dataTable) return;\n",
              "\n",
              "        const docLinkHtml = 'Like what you see? Visit the ' +\n",
              "          '<a target=\"_blank\" href=https://colab.research.google.com/notebooks/data_table.ipynb>data table notebook</a>'\n",
              "          + ' to learn more about interactive tables.';\n",
              "        element.innerHTML = '';\n",
              "        dataTable['output_type'] = 'display_data';\n",
              "        await google.colab.output.renderOutput(dataTable, element);\n",
              "        const docLink = document.createElement('div');\n",
              "        docLink.innerHTML = docLinkHtml;\n",
              "        element.appendChild(docLink);\n",
              "      }\n",
              "    </script>\n",
              "  </div>\n",
              "\n",
              "\n",
              "    <div id=\"df-d46b4019-4b09-4021-acdc-49ba6e21f205\">\n",
              "      <button class=\"colab-df-quickchart\" onclick=\"quickchart('df-d46b4019-4b09-4021-acdc-49ba6e21f205')\"\n",
              "                title=\"Suggest charts\"\n",
              "                style=\"display:none;\">\n",
              "\n",
              "<svg xmlns=\"http://www.w3.org/2000/svg\" height=\"24px\"viewBox=\"0 0 24 24\"\n",
              "     width=\"24px\">\n",
              "    <g>\n",
              "        <path d=\"M19 3H5c-1.1 0-2 .9-2 2v14c0 1.1.9 2 2 2h14c1.1 0 2-.9 2-2V5c0-1.1-.9-2-2-2zM9 17H7v-7h2v7zm4 0h-2V7h2v10zm4 0h-2v-4h2v4z\"/>\n",
              "    </g>\n",
              "</svg>\n",
              "      </button>\n",
              "\n",
              "<style>\n",
              "  .colab-df-quickchart {\n",
              "      --bg-color: #E8F0FE;\n",
              "      --fill-color: #1967D2;\n",
              "      --hover-bg-color: #E2EBFA;\n",
              "      --hover-fill-color: #174EA6;\n",
              "      --disabled-fill-color: #AAA;\n",
              "      --disabled-bg-color: #DDD;\n",
              "  }\n",
              "\n",
              "  [theme=dark] .colab-df-quickchart {\n",
              "      --bg-color: #3B4455;\n",
              "      --fill-color: #D2E3FC;\n",
              "      --hover-bg-color: #434B5C;\n",
              "      --hover-fill-color: #FFFFFF;\n",
              "      --disabled-bg-color: #3B4455;\n",
              "      --disabled-fill-color: #666;\n",
              "  }\n",
              "\n",
              "  .colab-df-quickchart {\n",
              "    background-color: var(--bg-color);\n",
              "    border: none;\n",
              "    border-radius: 50%;\n",
              "    cursor: pointer;\n",
              "    display: none;\n",
              "    fill: var(--fill-color);\n",
              "    height: 32px;\n",
              "    padding: 0;\n",
              "    width: 32px;\n",
              "  }\n",
              "\n",
              "  .colab-df-quickchart:hover {\n",
              "    background-color: var(--hover-bg-color);\n",
              "    box-shadow: 0 1px 2px rgba(60, 64, 67, 0.3), 0 1px 3px 1px rgba(60, 64, 67, 0.15);\n",
              "    fill: var(--button-hover-fill-color);\n",
              "  }\n",
              "\n",
              "  .colab-df-quickchart-complete:disabled,\n",
              "  .colab-df-quickchart-complete:disabled:hover {\n",
              "    background-color: var(--disabled-bg-color);\n",
              "    fill: var(--disabled-fill-color);\n",
              "    box-shadow: none;\n",
              "  }\n",
              "\n",
              "  .colab-df-spinner {\n",
              "    border: 2px solid var(--fill-color);\n",
              "    border-color: transparent;\n",
              "    border-bottom-color: var(--fill-color);\n",
              "    animation:\n",
              "      spin 1s steps(1) infinite;\n",
              "  }\n",
              "\n",
              "  @keyframes spin {\n",
              "    0% {\n",
              "      border-color: transparent;\n",
              "      border-bottom-color: var(--fill-color);\n",
              "      border-left-color: var(--fill-color);\n",
              "    }\n",
              "    20% {\n",
              "      border-color: transparent;\n",
              "      border-left-color: var(--fill-color);\n",
              "      border-top-color: var(--fill-color);\n",
              "    }\n",
              "    30% {\n",
              "      border-color: transparent;\n",
              "      border-left-color: var(--fill-color);\n",
              "      border-top-color: var(--fill-color);\n",
              "      border-right-color: var(--fill-color);\n",
              "    }\n",
              "    40% {\n",
              "      border-color: transparent;\n",
              "      border-right-color: var(--fill-color);\n",
              "      border-top-color: var(--fill-color);\n",
              "    }\n",
              "    60% {\n",
              "      border-color: transparent;\n",
              "      border-right-color: var(--fill-color);\n",
              "    }\n",
              "    80% {\n",
              "      border-color: transparent;\n",
              "      border-right-color: var(--fill-color);\n",
              "      border-bottom-color: var(--fill-color);\n",
              "    }\n",
              "    90% {\n",
              "      border-color: transparent;\n",
              "      border-bottom-color: var(--fill-color);\n",
              "    }\n",
              "  }\n",
              "</style>\n",
              "\n",
              "      <script>\n",
              "        async function quickchart(key) {\n",
              "          const quickchartButtonEl =\n",
              "            document.querySelector('#' + key + ' button');\n",
              "          quickchartButtonEl.disabled = true;  // To prevent multiple clicks.\n",
              "          quickchartButtonEl.classList.add('colab-df-spinner');\n",
              "          try {\n",
              "            const charts = await google.colab.kernel.invokeFunction(\n",
              "                'suggestCharts', [key], {});\n",
              "          } catch (error) {\n",
              "            console.error('Error during call to suggestCharts:', error);\n",
              "          }\n",
              "          quickchartButtonEl.classList.remove('colab-df-spinner');\n",
              "          quickchartButtonEl.classList.add('colab-df-quickchart-complete');\n",
              "        }\n",
              "        (() => {\n",
              "          let quickchartButtonEl =\n",
              "            document.querySelector('#df-d46b4019-4b09-4021-acdc-49ba6e21f205 button');\n",
              "          quickchartButtonEl.style.display =\n",
              "            google.colab.kernel.accessAllowed ? 'block' : 'none';\n",
              "        })();\n",
              "      </script>\n",
              "    </div>\n",
              "\n",
              "    </div>\n",
              "  </div>\n"
            ],
            "application/vnd.google.colaboratory.intrinsic+json": {
              "type": "dataframe",
              "summary": "{\n  \"name\": \"data_all\",\n  \"rows\": 5,\n  \"fields\": [\n    {\n      \"column\": \"STX40.JO\",\n      \"properties\": {\n        \"dtype\": \"number\",\n        \"std\": 0.027688894929825392,\n        \"min\": -0.025962826710882594,\n        \"max\": 0.039879806910668586,\n        \"num_unique_values\": 5,\n        \"samples\": [\n          -0.025962826710882594,\n          0.02524024163818993,\n          -0.01321949704793411\n        ],\n        \"semantic_type\": \"\",\n        \"description\": \"\"\n      }\n    },\n    {\n      \"column\": \"STXDIV.JO\",\n      \"properties\": {\n        \"dtype\": \"number\",\n        \"std\": 0.02864241807809189,\n        \"min\": -0.021605153998069015,\n        \"max\": 0.04784948265548065,\n        \"num_unique_values\": 5,\n        \"samples\": [\n          -0.021605153998069015,\n          -0.014997956008649886,\n          -0.014760370268750411\n        ],\n        \"semantic_type\": \"\",\n        \"description\": \"\"\n      }\n    },\n    {\n      \"column\": \"STXFIN.JO\",\n      \"properties\": {\n        \"dtype\": \"number\",\n        \"std\": 0.0278240985883821,\n        \"min\": -0.04003436833901712,\n        \"max\": 0.031987691709296814,\n        \"num_unique_values\": 5,\n        \"samples\": [\n          -0.02284107246289589,\n          -0.04003436833901712,\n          0.004725801715876227\n        ],\n        \"semantic_type\": \"\",\n        \"description\": \"\"\n      }\n    },\n    {\n      \"column\": \"STXIND.JO\",\n      \"properties\": {\n        \"dtype\": \"number\",\n        \"std\": 0.036197997552601884,\n        \"min\": -0.04331024645548368,\n        \"max\": 0.05558928008426731,\n        \"num_unique_values\": 5,\n        \"samples\": [\n          -0.04331024645548368,\n          0.012709586651342288,\n          0.0031485852050987403\n        ],\n        \"semantic_type\": \"\",\n        \"description\": \"\"\n      }\n    },\n    {\n      \"column\": \"STXRES.JO\",\n      \"properties\": {\n        \"dtype\": \"number\",\n        \"std\": 0.09364372257298358,\n        \"min\": -0.07368682876799508,\n        \"max\": 0.16113062829708702,\n        \"num_unique_values\": 5,\n        \"samples\": [\n          0.016970284812864216,\n          0.16113062829708702,\n          -0.07368682876799508\n        ],\n        \"semantic_type\": \"\",\n        \"description\": \"\"\n      }\n    },\n    {\n      \"column\": \"CPI\",\n      \"properties\": {\n        \"dtype\": \"number\",\n        \"std\": 0.28120790885037356,\n        \"min\": 156.8977,\n        \"max\": 157.6837,\n        \"num_unique_values\": 3,\n        \"samples\": [\n          156.8977,\n          157.2121,\n          157.6837\n        ],\n        \"semantic_type\": \"\",\n        \"description\": \"\"\n      }\n    },\n    {\n      \"column\": \"GDP\",\n      \"properties\": {\n        \"dtype\": \"number\",\n        \"std\": 2260.9627606397703,\n        \"min\": 1164042.3,\n        \"max\": 1169838.5,\n        \"num_unique_values\": 3,\n        \"samples\": [\n          1164042.3,\n          1168684.4,\n          1169838.5\n        ],\n        \"semantic_type\": \"\",\n        \"description\": \"\"\n      }\n    },\n    {\n      \"column\": \"ZAGB10y\",\n      \"properties\": {\n        \"dtype\": \"number\",\n        \"std\": 0.25502099710181114,\n        \"min\": 10.419545454545457,\n        \"max\": 11.021739130434783,\n        \"num_unique_values\": 3,\n        \"samples\": [\n          11.021739130434783,\n          10.464347826086957,\n          10.419545454545457\n        ],\n        \"semantic_type\": \"\",\n        \"description\": \"\"\n      }\n    },\n    {\n      \"column\": \"CPI_qoq\",\n      \"properties\": {\n        \"dtype\": \"number\",\n        \"std\": 0.2194265965255106,\n        \"min\": 0.20038534663031626,\n        \"max\": 0.7063669950422513,\n        \"num_unique_values\": 3,\n        \"samples\": [\n          0.7063669950422513,\n          0.20038534663031626,\n          0.29997691017420447\n        ],\n        \"semantic_type\": \"\",\n        \"description\": \"\"\n      }\n    },\n    {\n      \"column\": \"GDP_qoq\",\n      \"properties\": {\n        \"dtype\": \"number\",\n        \"std\": 0.3038672328858316,\n        \"min\": -0.2904491914783036,\n        \"max\": 0.3987913497645046,\n        \"num_unique_values\": 3,\n        \"samples\": [\n          -0.2904491914783036,\n          0.3987913497645046,\n          0.09875206685399096\n        ],\n        \"semantic_type\": \"\",\n        \"description\": \"\"\n      }\n    },\n    {\n      \"column\": \"Yield_change\",\n      \"properties\": {\n        \"dtype\": \"number\",\n        \"std\": 0.245033096745161,\n        \"min\": -0.557391304347826,\n        \"max\": 0.0,\n        \"num_unique_values\": 3,\n        \"samples\": [\n          0.0,\n          -0.557391304347826,\n          -0.04480237154150046\n        ],\n        \"semantic_type\": \"\",\n        \"description\": \"\"\n      }\n    },\n    {\n      \"column\": \"Gold_change\",\n      \"properties\": {\n        \"dtype\": \"number\",\n        \"std\": 4.320223880164624,\n        \"min\": -2.968997092298853,\n        \"max\": 6.971704405609214,\n        \"num_unique_values\": 5,\n        \"samples\": [\n          3.8769374221692354,\n          6.971704405609214,\n          -2.968997092298853\n        ],\n        \"semantic_type\": \"\",\n        \"description\": \"\"\n      }\n    },\n    {\n      \"column\": \"USDZAR_change\",\n      \"properties\": {\n        \"dtype\": \"number\",\n        \"std\": 3.181158039445229,\n        \"min\": -3.608558058344058,\n        \"max\": 3.7841471285281703,\n        \"num_unique_values\": 5,\n        \"samples\": [\n          3.263709611886556,\n          -1.053026708511673,\n          2.4675680402593603\n        ],\n        \"semantic_type\": \"\",\n        \"description\": \"\"\n      }\n    }\n  ]\n}"
            }
          },
          "metadata": {},
          "execution_count": 90
        }
      ]
    },
    {
      "cell_type": "markdown",
      "source": [
        "## **Normalize Features and Returns**"
      ],
      "metadata": {
        "id": "xq4-Jxdf7GNe"
      }
    },
    {
      "cell_type": "code",
      "source": [
        "scaler_X = StandardScaler()\n",
        "scaler_R = StandardScaler()\n",
        "\n",
        "X_scaled = pd.DataFrame(\n",
        "    scaler_X.fit_transform(features),\n",
        "    index=features.index,\n",
        "    columns=features.columns\n",
        ")\n",
        "\n",
        "R_scaled = pd.DataFrame(\n",
        "    scaler_R.fit_transform(returns),\n",
        "    index=returns.index,\n",
        "    columns=returns.columns\n",
        ")"
      ],
      "metadata": {
        "id": "CNiRxIKK7KPy"
      },
      "execution_count": null,
      "outputs": []
    },
    {
      "cell_type": "markdown",
      "source": [
        "## **Verify Alignment**"
      ],
      "metadata": {
        "id": "GsJT99tC7Nnu"
      }
    },
    {
      "cell_type": "code",
      "source": [
        "print(\"Aligned Period:\", X_scaled.index.min(), \"to\", X_scaled.index.max())\n",
        "print(\"Macro columns:\", list(macro_monthly.columns))\n",
        "print(\"Market columns:\", list(market_monthly.columns))"
      ],
      "metadata": {
        "colab": {
          "base_uri": "https://localhost:8080/"
        },
        "id": "UAYIwl9L7RjH",
        "outputId": "4a01344b-4b0b-4dcb-d76f-6a0c05d9e042"
      },
      "execution_count": null,
      "outputs": [
        {
          "output_type": "stream",
          "name": "stdout",
          "text": [
            "Aligned Period: 2009-02-28 00:00:00 to 2025-01-31 00:00:00\n",
            "Macro columns: ['CPI', 'GDP', 'ZAGB10y', 'CPI_qoq', 'GDP_qoq', 'Yield_change']\n",
            "Market columns: ['Gold_change', 'USDZAR_change']\n"
          ]
        }
      ]
    }
  ]
}